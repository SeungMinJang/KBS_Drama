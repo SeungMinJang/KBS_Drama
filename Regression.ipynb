{
 "cells": [
  {
   "cell_type": "code",
   "execution_count": 1,
   "metadata": {},
   "outputs": [],
   "source": [
    "import numpy as np\n",
    "import pandas as pd\n",
    "import sklearn\n",
    "import matplotlib.pyplot as plt\n",
    "import os"
   ]
  },
  {
   "cell_type": "code",
   "execution_count": 2,
   "metadata": {},
   "outputs": [
    {
     "data": {
      "text/html": [
       "<div>\n",
       "<style scoped>\n",
       "    .dataframe tbody tr th:only-of-type {\n",
       "        vertical-align: middle;\n",
       "    }\n",
       "\n",
       "    .dataframe tbody tr th {\n",
       "        vertical-align: top;\n",
       "    }\n",
       "\n",
       "    .dataframe thead th {\n",
       "        text-align: right;\n",
       "    }\n",
       "</style>\n",
       "<table border=\"1\" class=\"dataframe\">\n",
       "  <thead>\n",
       "    <tr style=\"text-align: right;\">\n",
       "      <th></th>\n",
       "      <th>드라마</th>\n",
       "      <th>날짜</th>\n",
       "      <th>회차</th>\n",
       "      <th>요일</th>\n",
       "      <th>배우</th>\n",
       "      <th>CPI</th>\n",
       "      <th>CPI증감률</th>\n",
       "      <th>경제성장률</th>\n",
       "      <th>실업률</th>\n",
       "      <th>미세먼지</th>\n",
       "      <th>연출자</th>\n",
       "      <th>작가</th>\n",
       "      <th>특이사항</th>\n",
       "      <th>시청률</th>\n",
       "    </tr>\n",
       "  </thead>\n",
       "  <tbody>\n",
       "    <tr>\n",
       "      <td>0</td>\n",
       "      <td>넝쿨째 굴러온 당신 (2012.02.25~2012.09.09)</td>\n",
       "      <td>2012.02.25</td>\n",
       "      <td>1</td>\n",
       "      <td>0</td>\n",
       "      <td>75</td>\n",
       "      <td>96.436</td>\n",
       "      <td>2.9</td>\n",
       "      <td>0.7</td>\n",
       "      <td>4.2</td>\n",
       "      <td>47</td>\n",
       "      <td>5</td>\n",
       "      <td>10</td>\n",
       "      <td>0</td>\n",
       "      <td>22.3</td>\n",
       "    </tr>\n",
       "    <tr>\n",
       "      <td>1</td>\n",
       "      <td>넝쿨째 굴러온 당신 (2012.02.25~2012.09.09)</td>\n",
       "      <td>2012.02.26</td>\n",
       "      <td>2</td>\n",
       "      <td>1</td>\n",
       "      <td>75</td>\n",
       "      <td>96.436</td>\n",
       "      <td>2.9</td>\n",
       "      <td>0.7</td>\n",
       "      <td>4.2</td>\n",
       "      <td>47</td>\n",
       "      <td>5</td>\n",
       "      <td>10</td>\n",
       "      <td>0</td>\n",
       "      <td>28.9</td>\n",
       "    </tr>\n",
       "    <tr>\n",
       "      <td>2</td>\n",
       "      <td>넝쿨째 굴러온 당신 (2012.02.25~2012.09.09)</td>\n",
       "      <td>2012.03.03</td>\n",
       "      <td>3</td>\n",
       "      <td>0</td>\n",
       "      <td>75</td>\n",
       "      <td>96.436</td>\n",
       "      <td>2.9</td>\n",
       "      <td>0.7</td>\n",
       "      <td>3.7</td>\n",
       "      <td>43</td>\n",
       "      <td>5</td>\n",
       "      <td>10</td>\n",
       "      <td>0</td>\n",
       "      <td>25.7</td>\n",
       "    </tr>\n",
       "    <tr>\n",
       "      <td>3</td>\n",
       "      <td>넝쿨째 굴러온 당신 (2012.02.25~2012.09.09)</td>\n",
       "      <td>2012.03.04</td>\n",
       "      <td>4</td>\n",
       "      <td>1</td>\n",
       "      <td>75</td>\n",
       "      <td>96.436</td>\n",
       "      <td>2.9</td>\n",
       "      <td>0.7</td>\n",
       "      <td>3.7</td>\n",
       "      <td>43</td>\n",
       "      <td>5</td>\n",
       "      <td>10</td>\n",
       "      <td>0</td>\n",
       "      <td>29.9</td>\n",
       "    </tr>\n",
       "    <tr>\n",
       "      <td>4</td>\n",
       "      <td>넝쿨째 굴러온 당신 (2012.02.25~2012.09.09)</td>\n",
       "      <td>2012.03.10</td>\n",
       "      <td>5</td>\n",
       "      <td>0</td>\n",
       "      <td>75</td>\n",
       "      <td>96.436</td>\n",
       "      <td>2.9</td>\n",
       "      <td>0.7</td>\n",
       "      <td>3.7</td>\n",
       "      <td>43</td>\n",
       "      <td>5</td>\n",
       "      <td>10</td>\n",
       "      <td>0</td>\n",
       "      <td>26.9</td>\n",
       "    </tr>\n",
       "  </tbody>\n",
       "</table>\n",
       "</div>"
      ],
      "text/plain": [
       "                                  드라마          날짜  회차  요일  배우     CPI  CPI증감률  \\\n",
       "0  넝쿨째 굴러온 당신 (2012.02.25~2012.09.09)  2012.02.25   1   0  75  96.436     2.9   \n",
       "1  넝쿨째 굴러온 당신 (2012.02.25~2012.09.09)  2012.02.26   2   1  75  96.436     2.9   \n",
       "2  넝쿨째 굴러온 당신 (2012.02.25~2012.09.09)  2012.03.03   3   0  75  96.436     2.9   \n",
       "3  넝쿨째 굴러온 당신 (2012.02.25~2012.09.09)  2012.03.04   4   1  75  96.436     2.9   \n",
       "4  넝쿨째 굴러온 당신 (2012.02.25~2012.09.09)  2012.03.10   5   0  75  96.436     2.9   \n",
       "\n",
       "   경제성장률  실업률  미세먼지  연출자  작가  특이사항   시청률  \n",
       "0    0.7  4.2    47    5  10     0  22.3  \n",
       "1    0.7  4.2    47    5  10     0  28.9  \n",
       "2    0.7  3.7    43    5  10     0  25.7  \n",
       "3    0.7  3.7    43    5  10     0  29.9  \n",
       "4    0.7  3.7    43    5  10     0  26.9  "
      ]
     },
     "execution_count": 2,
     "metadata": {},
     "output_type": "execute_result"
    }
   ],
   "source": [
    "# data\n",
    "\n",
    "path = os.getcwd()\n",
    "drama = pd.read_csv(path+'/drama.csv',sep=',')\n",
    "drama.head()"
   ]
  },
  {
   "cell_type": "code",
   "execution_count": 3,
   "metadata": {},
   "outputs": [
    {
     "data": {
      "text/plain": [
       "0      2.9\n",
       "1      2.9\n",
       "2      2.9\n",
       "3      2.9\n",
       "4      2.9\n",
       "      ... \n",
       "779   -0.3\n",
       "780   -0.3\n",
       "781   -0.3\n",
       "782   -0.3\n",
       "783   -0.3\n",
       "Name: CPI증감률, Length: 784, dtype: float64"
      ]
     },
     "execution_count": 3,
     "metadata": {},
     "output_type": "execute_result"
    }
   ],
   "source": [
    "drama.pop('드라마')\n",
    "drama.pop('날짜')\n",
    "drama.pop('CPI')\n",
    "drama.pop('CPI증감률')"
   ]
  },
  {
   "cell_type": "code",
   "execution_count": 4,
   "metadata": {},
   "outputs": [],
   "source": [
    "drama.rename(columns={'회차': 'Episode', '요일': 'Day', '배우': 'Actor', '경제성장률': 'GDP' , '실업률' : 'Job',  '미세먼지': 'Dust',\n",
    "                     '연출자': 'Director', '작가': 'Author', '특이사항': 'Exception', '시청률': 'Rate'}, inplace=True)"
   ]
  },
  {
   "cell_type": "code",
   "execution_count": 5,
   "metadata": {},
   "outputs": [
    {
     "name": "stdout",
     "output_type": "stream",
     "text": [
      "(784, 10)\n"
     ]
    },
    {
     "data": {
      "text/html": [
       "<div>\n",
       "<style scoped>\n",
       "    .dataframe tbody tr th:only-of-type {\n",
       "        vertical-align: middle;\n",
       "    }\n",
       "\n",
       "    .dataframe tbody tr th {\n",
       "        vertical-align: top;\n",
       "    }\n",
       "\n",
       "    .dataframe thead th {\n",
       "        text-align: right;\n",
       "    }\n",
       "</style>\n",
       "<table border=\"1\" class=\"dataframe\">\n",
       "  <thead>\n",
       "    <tr style=\"text-align: right;\">\n",
       "      <th></th>\n",
       "      <th>Episode</th>\n",
       "      <th>Day</th>\n",
       "      <th>Actor</th>\n",
       "      <th>GDP</th>\n",
       "      <th>Job</th>\n",
       "      <th>Dust</th>\n",
       "      <th>Director</th>\n",
       "      <th>Author</th>\n",
       "      <th>Exception</th>\n",
       "      <th>Rate</th>\n",
       "    </tr>\n",
       "  </thead>\n",
       "  <tbody>\n",
       "    <tr>\n",
       "      <td>0</td>\n",
       "      <td>1</td>\n",
       "      <td>0</td>\n",
       "      <td>75</td>\n",
       "      <td>0.7</td>\n",
       "      <td>4.2</td>\n",
       "      <td>47</td>\n",
       "      <td>5</td>\n",
       "      <td>10</td>\n",
       "      <td>0</td>\n",
       "      <td>22.3</td>\n",
       "    </tr>\n",
       "    <tr>\n",
       "      <td>1</td>\n",
       "      <td>2</td>\n",
       "      <td>1</td>\n",
       "      <td>75</td>\n",
       "      <td>0.7</td>\n",
       "      <td>4.2</td>\n",
       "      <td>47</td>\n",
       "      <td>5</td>\n",
       "      <td>10</td>\n",
       "      <td>0</td>\n",
       "      <td>28.9</td>\n",
       "    </tr>\n",
       "    <tr>\n",
       "      <td>2</td>\n",
       "      <td>3</td>\n",
       "      <td>0</td>\n",
       "      <td>75</td>\n",
       "      <td>0.7</td>\n",
       "      <td>3.7</td>\n",
       "      <td>43</td>\n",
       "      <td>5</td>\n",
       "      <td>10</td>\n",
       "      <td>0</td>\n",
       "      <td>25.7</td>\n",
       "    </tr>\n",
       "    <tr>\n",
       "      <td>3</td>\n",
       "      <td>4</td>\n",
       "      <td>1</td>\n",
       "      <td>75</td>\n",
       "      <td>0.7</td>\n",
       "      <td>3.7</td>\n",
       "      <td>43</td>\n",
       "      <td>5</td>\n",
       "      <td>10</td>\n",
       "      <td>0</td>\n",
       "      <td>29.9</td>\n",
       "    </tr>\n",
       "    <tr>\n",
       "      <td>4</td>\n",
       "      <td>5</td>\n",
       "      <td>0</td>\n",
       "      <td>75</td>\n",
       "      <td>0.7</td>\n",
       "      <td>3.7</td>\n",
       "      <td>43</td>\n",
       "      <td>5</td>\n",
       "      <td>10</td>\n",
       "      <td>0</td>\n",
       "      <td>26.9</td>\n",
       "    </tr>\n",
       "  </tbody>\n",
       "</table>\n",
       "</div>"
      ],
      "text/plain": [
       "   Episode  Day  Actor  GDP  Job  Dust  Director  Author  Exception  Rate\n",
       "0        1    0     75  0.7  4.2    47         5      10          0  22.3\n",
       "1        2    1     75  0.7  4.2    47         5      10          0  28.9\n",
       "2        3    0     75  0.7  3.7    43         5      10          0  25.7\n",
       "3        4    1     75  0.7  3.7    43         5      10          0  29.9\n",
       "4        5    0     75  0.7  3.7    43         5      10          0  26.9"
      ]
     },
     "execution_count": 5,
     "metadata": {},
     "output_type": "execute_result"
    }
   ],
   "source": [
    "print(drama.shape)\n",
    "drama.head()"
   ]
  },
  {
   "cell_type": "markdown",
   "metadata": {},
   "source": [
    "# PreProcessing"
   ]
  },
  {
   "cell_type": "code",
   "execution_count": 6,
   "metadata": {},
   "outputs": [],
   "source": [
    "from sklearn.preprocessing import StandardScaler\n",
    "\n",
    "scaler = StandardScaler()\n",
    "scaler.fit(drama.iloc[:,:-1])\n",
    "X_scaled = scaler.transform(drama.iloc[:,:-1])\n",
    "np.mean(X_scaled), np.std(X_scaled)\n",
    "\n",
    "y = drama.iloc[:,-1:].values"
   ]
  },
  {
   "cell_type": "code",
   "execution_count": 7,
   "metadata": {},
   "outputs": [
    {
     "data": {
      "text/plain": [
       "((784, 9), (784, 1))"
      ]
     },
     "execution_count": 7,
     "metadata": {},
     "output_type": "execute_result"
    }
   ],
   "source": [
    "X_scaled.shape, y.shape"
   ]
  },
  {
   "cell_type": "markdown",
   "metadata": {},
   "source": [
    "# Train_Test_Split"
   ]
  },
  {
   "cell_type": "code",
   "execution_count": 8,
   "metadata": {},
   "outputs": [
    {
     "name": "stdout",
     "output_type": "stream",
     "text": [
      "(588, 9) (196, 9) (588, 1) (196, 1)\n"
     ]
    }
   ],
   "source": [
    "from sklearn.model_selection import train_test_split\n",
    "\n",
    "X_train, X_test, y_train, y_test = train_test_split(X_scaled,y, test_size = 0.25, random_state = 777)\n",
    "\n",
    "print(\n",
    "    \n",
    "    X_train.shape,\n",
    "    X_test.shape,\n",
    "    y_train.shape,\n",
    "    y_test.shape\n",
    ")"
   ]
  },
  {
   "cell_type": "code",
   "execution_count": 9,
   "metadata": {},
   "outputs": [],
   "source": [
    "name = list()\n",
    "r2 = list()\n",
    "mse = list()"
   ]
  },
  {
   "cell_type": "markdown",
   "metadata": {},
   "source": [
    "# Regression of Linear Model"
   ]
  },
  {
   "cell_type": "code",
   "execution_count": 10,
   "metadata": {},
   "outputs": [
    {
     "name": "stdout",
     "output_type": "stream",
     "text": [
      "\n",
      "Coefficient:\n",
      " [[ 3.36773682  2.0814016   4.29000819  0.23858991  0.26183183  1.62091256\n",
      "  -1.12152158  0.37338043 -0.8373647 ]]\n",
      "\n",
      "Intercept:\n",
      " [29.38026668]\n",
      "\n",
      "R2-Score\n",
      ": 0.8527860255101426\n",
      "\n",
      "MSE\n",
      ": [4.79068701]\n"
     ]
    }
   ],
   "source": [
    "from sklearn.linear_model import LinearRegression\n",
    "from sklearn.metrics import mean_squared_error\n",
    "\n",
    "model = LinearRegression()\n",
    "model.fit(X_train,y_train)\n",
    "\n",
    "y_pred = model.predict(X_test)\n",
    "\n",
    "print('\\nCoefficient:\\n',model.coef_)\n",
    "print('\\nIntercept:\\n',model.intercept_)\n",
    "print('\\nR2-Score\\n:', model.score(X_test,y_test))\n",
    "print('\\nMSE\\n:', mean_squared_error(y_test, y_pred, multioutput='raw_values'))\n",
    "\n",
    "\n",
    "name.append('LinearRegression')\n",
    "r2.append(model.score(X_test,y_test))\n",
    "mse.append(mean_squared_error(y_test, y_pred, multioutput='raw_values'))"
   ]
  },
  {
   "cell_type": "code",
   "execution_count": 11,
   "metadata": {},
   "outputs": [
    {
     "name": "stdout",
     "output_type": "stream",
     "text": [
      "\n",
      "Coefficient:\n",
      " [[ 3.36273547  2.07734919  4.14965385  0.23362453  0.26527601  1.61100562\n",
      "  -1.02887978  0.42043142 -0.83580787]]\n",
      "\n",
      "Intercept:\n",
      " [29.38065299]\n",
      "\n",
      "R2-Score\n",
      ": 0.8534173693597753\n",
      "\n",
      "MSE\n",
      ": [4.7701416]\n"
     ]
    }
   ],
   "source": [
    "from sklearn.linear_model import Ridge\n",
    "\n",
    "model = Ridge()\n",
    "model.fit(X_train,y_train)\n",
    "\n",
    "y_pred = model.predict(X_test)\n",
    "\n",
    "print('\\nCoefficient:\\n',model.coef_)\n",
    "print('\\nIntercept:\\n',model.intercept_)\n",
    "print('\\nR2-Score\\n:', model.score(X_test,y_test))\n",
    "print('\\nMSE\\n:', mean_squared_error(y_test, y_pred, multioutput='raw_values'))\n",
    "\n",
    "name.append('Ridge')\n",
    "r2.append(model.score(X_test,y_test))\n",
    "mse.append(mean_squared_error(y_test, y_pred, multioutput='raw_values'))"
   ]
  },
  {
   "cell_type": "code",
   "execution_count": 12,
   "metadata": {},
   "outputs": [
    {
     "name": "stdout",
     "output_type": "stream",
     "text": [
      "\n",
      "Coefficient:\n",
      " [ 2.24160323  1.10908328  2.08945947  0.         -0.          0.35468998\n",
      "  0.          0.17935874 -0.        ]\n",
      "\n",
      "Intercept:\n",
      " [29.39152232]\n",
      "\n",
      "R2-Score\n",
      ": 0.7024207975794137\n",
      "\n",
      "MSE\n",
      ": [9.68392317]\n"
     ]
    }
   ],
   "source": [
    "from sklearn.linear_model import Lasso\n",
    "\n",
    "model = Lasso()\n",
    "model.fit(X_train,y_train)\n",
    "\n",
    "y_pred = model.predict(X_test)\n",
    "\n",
    "print('\\nCoefficient:\\n',model.coef_)\n",
    "print('\\nIntercept:\\n',model.intercept_)\n",
    "print('\\nR2-Score\\n:', model.score(X_test,y_test))\n",
    "print('\\nMSE\\n:', mean_squared_error(y_test, y_pred, multioutput='raw_values'))\n",
    "\n",
    "name.append('Lasso')\n",
    "r2.append(model.score(X_test,y_test))\n",
    "mse.append(mean_squared_error(y_test, y_pred, multioutput='raw_values'))\n"
   ]
  },
  {
   "cell_type": "code",
   "execution_count": 13,
   "metadata": {},
   "outputs": [
    {
     "name": "stdout",
     "output_type": "stream",
     "text": [
      "\n",
      "R2-Score\n",
      ": 0.864629060169535\n",
      "\n",
      "MSE\n",
      ": [4.40528696]\n"
     ]
    },
    {
     "name": "stderr",
     "output_type": "stream",
     "text": [
      "/home/smsm8898/miniconda3/envs/tf/lib/python3.7/site-packages/sklearn/utils/validation.py:724: DataConversionWarning: A column-vector y was passed when a 1d array was expected. Please change the shape of y to (n_samples, ), for example using ravel().\n",
      "  y = column_or_1d(y, warn=True)\n",
      "/home/smsm8898/miniconda3/envs/tf/lib/python3.7/site-packages/sklearn/svm/base.py:193: FutureWarning: The default value of gamma will change from 'auto' to 'scale' in version 0.22 to account better for unscaled features. Set gamma explicitly to 'auto' or 'scale' to avoid this warning.\n",
      "  \"avoid this warning.\", FutureWarning)\n"
     ]
    }
   ],
   "source": [
    "from sklearn.svm import SVR\n",
    "\n",
    "model = SVR()\n",
    "model.fit(X_train,y_train)\n",
    "\n",
    "y_pred = model.predict(X_test)\n",
    "\n",
    "print('\\nR2-Score\\n:', model.score(X_test,y_test))\n",
    "print('\\nMSE\\n:', mean_squared_error(y_test, y_pred, multioutput='raw_values'))\n",
    "\n",
    "name.append('SVR')\n",
    "r2.append(model.score(X_test,y_test))\n",
    "mse.append(mean_squared_error(y_test, y_pred, multioutput='raw_values'))"
   ]
  },
  {
   "cell_type": "code",
   "execution_count": 14,
   "metadata": {},
   "outputs": [
    {
     "name": "stdout",
     "output_type": "stream",
     "text": [
      "\n",
      "R2-Score\n",
      ": 0.9217285871172474\n",
      "\n",
      "MSE\n",
      ": [2.54713482]\n"
     ]
    },
    {
     "name": "stderr",
     "output_type": "stream",
     "text": [
      "/home/smsm8898/miniconda3/envs/tf/lib/python3.7/site-packages/sklearn/ensemble/forest.py:245: FutureWarning: The default value of n_estimators will change from 10 in version 0.20 to 100 in 0.22.\n",
      "  \"10 in version 0.20 to 100 in 0.22.\", FutureWarning)\n",
      "/home/smsm8898/miniconda3/envs/tf/lib/python3.7/site-packages/ipykernel_launcher.py:4: DataConversionWarning: A column-vector y was passed when a 1d array was expected. Please change the shape of y to (n_samples,), for example using ravel().\n",
      "  after removing the cwd from sys.path.\n"
     ]
    }
   ],
   "source": [
    "from sklearn.ensemble import RandomForestRegressor\n",
    "\n",
    "model = RandomForestRegressor()\n",
    "model.fit(X_train,y_train)\n",
    "\n",
    "y_pred = model.predict(X_test)\n",
    "\n",
    "print('\\nR2-Score\\n:', model.score(X_test,y_test))\n",
    "print('\\nMSE\\n:', mean_squared_error(y_test, y_pred, multioutput='raw_values'))\n",
    "\n",
    "name.append('RF')\n",
    "r2.append(model.score(X_test,y_test))\n",
    "mse.append(mean_squared_error(y_test, y_pred, multioutput='raw_values'))\n"
   ]
  },
  {
   "cell_type": "code",
   "execution_count": 15,
   "metadata": {},
   "outputs": [
    {
     "name": "stdout",
     "output_type": "stream",
     "text": [
      "\n",
      "R2-Score\n",
      ": 0.889180646735093\n",
      "\n",
      "MSE\n",
      ": [3.60632092]\n"
     ]
    }
   ],
   "source": [
    "from sklearn.neighbors import KNeighborsRegressor\n",
    "\n",
    "model = KNeighborsRegressor()\n",
    "model.fit(X_train,y_train)\n",
    "\n",
    "y_pred = model.predict(X_test)\n",
    "\n",
    "print('\\nR2-Score\\n:', model.score(X_test,y_test))\n",
    "print('\\nMSE\\n:', mean_squared_error(y_test, y_pred, multioutput='raw_values'))\n",
    "\n",
    "name.append('KNN')\n",
    "r2.append(model.score(X_test,y_test))\n",
    "mse.append(mean_squared_error(y_test, y_pred, multioutput='raw_values'))"
   ]
  },
  {
   "cell_type": "code",
   "execution_count": 19,
   "metadata": {},
   "outputs": [
    {
     "name": "stdout",
     "output_type": "stream",
     "text": [
      "\n",
      "R2-Score\n",
      ": 0.889180646735093\n",
      "\n",
      "MSE\n",
      ": [3.60632092]\n"
     ]
    }
   ],
   "source": [
    "from sklearn.ensemble import AdaBoostRegressor\n",
    "from sklearn.tree import DecisionTreeRegressor\n",
    "\n",
    "estimator = DecisionTreeRegressor()\n",
    "model = KNeighborsRegressor()\n",
    "model.fit(X_train,y_train)\n",
    "\n",
    "y_pred = model.predict(X_test)\n",
    "\n",
    "print('\\nR2-Score\\n:', model.score(X_test,y_test))\n",
    "print('\\nMSE\\n:', mean_squared_error(y_test, y_pred, multioutput='raw_values'))\n",
    "\n",
    "name.append('Ada')\n",
    "r2.append(model.score(X_test,y_test))\n",
    "mse.append(mean_squared_error(y_test, y_pred, multioutput='raw_values'))"
   ]
  },
  {
   "cell_type": "code",
   "execution_count": 18,
   "metadata": {},
   "outputs": [
    {
     "data": {
      "text/plain": [
       "array([['LinearRegression', '0.8527860255101426', '4.7906870058128135'],\n",
       "       ['Ridge', '0.8534173693597753', '4.770141600479409'],\n",
       "       ['Lasso', '0.7024207975794137', '9.683923168140971'],\n",
       "       ['SVR', '0.864629060169535', '4.405286961769774'],\n",
       "       ['RF', '0.9217285871172474', '2.5471348214285703'],\n",
       "       ['KNN', '0.889180646735093', '3.606320918367347'],\n",
       "       ['Ada', '0.889180646735093', '3.606320918367347']], dtype='<U32')"
      ]
     },
     "execution_count": 18,
     "metadata": {},
     "output_type": "execute_result"
    }
   ],
   "source": [
    "model_result = np.c_[name,r2,mse]\n",
    "model_result\n",
    "\n",
    "# 1)분류 모델 성능 평가 (표2)를 통해 모델 선정 => RF가 가장 성능이 좋다."
   ]
  },
  {
   "cell_type": "markdown",
   "metadata": {},
   "source": [
    "1) 분류 모델 성능 평가 (표2)를 통해 모델 선정  \n",
    "결론 : R2, MSE 모두 Random Forest가 가장 좋은 성능을 보이고 있음"
   ]
  },
  {
   "cell_type": "markdown",
   "metadata": {},
   "source": [
    "2) 그 이후 RF 결과를 이용한 변수 영향력 분석, 필요시 regression coefficient 를 이용한 영향력도 같이 비교 (비슷한지, 차이가 있는지 등 서술)"
   ]
  },
  {
   "cell_type": "code",
   "execution_count": null,
   "metadata": {},
   "outputs": [],
   "source": []
  }
 ],
 "metadata": {
  "kernelspec": {
   "display_name": "[TF]",
   "language": "python",
   "name": "tf"
  },
  "language_info": {
   "codemirror_mode": {
    "name": "ipython",
    "version": 3
   },
   "file_extension": ".py",
   "mimetype": "text/x-python",
   "name": "python",
   "nbconvert_exporter": "python",
   "pygments_lexer": "ipython3",
   "version": "3.7.4"
  }
 },
 "nbformat": 4,
 "nbformat_minor": 4
}
