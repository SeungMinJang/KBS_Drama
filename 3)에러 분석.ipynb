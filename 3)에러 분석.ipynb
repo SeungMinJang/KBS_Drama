{
 "cells": [
  {
   "cell_type": "code",
   "execution_count": 2,
   "metadata": {},
   "outputs": [],
   "source": [
    "import numpy as np\n",
    "import pandas as pd\n",
    "import sklearn\n",
    "import matplotlib.pyplot as plt\n",
    "import os"
   ]
  },
  {
   "cell_type": "code",
   "execution_count": 3,
   "metadata": {},
   "outputs": [
    {
     "data": {
      "text/html": [
       "<div>\n",
       "<style scoped>\n",
       "    .dataframe tbody tr th:only-of-type {\n",
       "        vertical-align: middle;\n",
       "    }\n",
       "\n",
       "    .dataframe tbody tr th {\n",
       "        vertical-align: top;\n",
       "    }\n",
       "\n",
       "    .dataframe thead th {\n",
       "        text-align: right;\n",
       "    }\n",
       "</style>\n",
       "<table border=\"1\" class=\"dataframe\">\n",
       "  <thead>\n",
       "    <tr style=\"text-align: right;\">\n",
       "      <th></th>\n",
       "      <th>드라마</th>\n",
       "      <th>날짜</th>\n",
       "      <th>회차</th>\n",
       "      <th>요일</th>\n",
       "      <th>배우</th>\n",
       "      <th>CPI</th>\n",
       "      <th>CPI증감률</th>\n",
       "      <th>경제성장률</th>\n",
       "      <th>실업률</th>\n",
       "      <th>미세먼지</th>\n",
       "      <th>연출자</th>\n",
       "      <th>작가</th>\n",
       "      <th>특이사항</th>\n",
       "      <th>시청률</th>\n",
       "    </tr>\n",
       "  </thead>\n",
       "  <tbody>\n",
       "    <tr>\n",
       "      <td>0</td>\n",
       "      <td>넝쿨째 굴러온 당신 (2012.02.25~2012.09.09)</td>\n",
       "      <td>2012.02.25</td>\n",
       "      <td>1</td>\n",
       "      <td>0</td>\n",
       "      <td>75</td>\n",
       "      <td>96.436</td>\n",
       "      <td>2.9</td>\n",
       "      <td>0.7</td>\n",
       "      <td>4.2</td>\n",
       "      <td>47</td>\n",
       "      <td>5</td>\n",
       "      <td>10</td>\n",
       "      <td>0</td>\n",
       "      <td>22.3</td>\n",
       "    </tr>\n",
       "    <tr>\n",
       "      <td>1</td>\n",
       "      <td>넝쿨째 굴러온 당신 (2012.02.25~2012.09.09)</td>\n",
       "      <td>2012.02.26</td>\n",
       "      <td>2</td>\n",
       "      <td>1</td>\n",
       "      <td>75</td>\n",
       "      <td>96.436</td>\n",
       "      <td>2.9</td>\n",
       "      <td>0.7</td>\n",
       "      <td>4.2</td>\n",
       "      <td>47</td>\n",
       "      <td>5</td>\n",
       "      <td>10</td>\n",
       "      <td>0</td>\n",
       "      <td>28.9</td>\n",
       "    </tr>\n",
       "    <tr>\n",
       "      <td>2</td>\n",
       "      <td>넝쿨째 굴러온 당신 (2012.02.25~2012.09.09)</td>\n",
       "      <td>2012.03.03</td>\n",
       "      <td>3</td>\n",
       "      <td>0</td>\n",
       "      <td>75</td>\n",
       "      <td>96.436</td>\n",
       "      <td>2.9</td>\n",
       "      <td>0.7</td>\n",
       "      <td>3.7</td>\n",
       "      <td>43</td>\n",
       "      <td>5</td>\n",
       "      <td>10</td>\n",
       "      <td>0</td>\n",
       "      <td>25.7</td>\n",
       "    </tr>\n",
       "    <tr>\n",
       "      <td>3</td>\n",
       "      <td>넝쿨째 굴러온 당신 (2012.02.25~2012.09.09)</td>\n",
       "      <td>2012.03.04</td>\n",
       "      <td>4</td>\n",
       "      <td>1</td>\n",
       "      <td>75</td>\n",
       "      <td>96.436</td>\n",
       "      <td>2.9</td>\n",
       "      <td>0.7</td>\n",
       "      <td>3.7</td>\n",
       "      <td>43</td>\n",
       "      <td>5</td>\n",
       "      <td>10</td>\n",
       "      <td>0</td>\n",
       "      <td>29.9</td>\n",
       "    </tr>\n",
       "    <tr>\n",
       "      <td>4</td>\n",
       "      <td>넝쿨째 굴러온 당신 (2012.02.25~2012.09.09)</td>\n",
       "      <td>2012.03.10</td>\n",
       "      <td>5</td>\n",
       "      <td>0</td>\n",
       "      <td>75</td>\n",
       "      <td>96.436</td>\n",
       "      <td>2.9</td>\n",
       "      <td>0.7</td>\n",
       "      <td>3.7</td>\n",
       "      <td>43</td>\n",
       "      <td>5</td>\n",
       "      <td>10</td>\n",
       "      <td>0</td>\n",
       "      <td>26.9</td>\n",
       "    </tr>\n",
       "  </tbody>\n",
       "</table>\n",
       "</div>"
      ],
      "text/plain": [
       "                                  드라마          날짜  회차  요일  배우     CPI  CPI증감률  \\\n",
       "0  넝쿨째 굴러온 당신 (2012.02.25~2012.09.09)  2012.02.25   1   0  75  96.436     2.9   \n",
       "1  넝쿨째 굴러온 당신 (2012.02.25~2012.09.09)  2012.02.26   2   1  75  96.436     2.9   \n",
       "2  넝쿨째 굴러온 당신 (2012.02.25~2012.09.09)  2012.03.03   3   0  75  96.436     2.9   \n",
       "3  넝쿨째 굴러온 당신 (2012.02.25~2012.09.09)  2012.03.04   4   1  75  96.436     2.9   \n",
       "4  넝쿨째 굴러온 당신 (2012.02.25~2012.09.09)  2012.03.10   5   0  75  96.436     2.9   \n",
       "\n",
       "   경제성장률  실업률  미세먼지  연출자  작가  특이사항   시청률  \n",
       "0    0.7  4.2    47    5  10     0  22.3  \n",
       "1    0.7  4.2    47    5  10     0  28.9  \n",
       "2    0.7  3.7    43    5  10     0  25.7  \n",
       "3    0.7  3.7    43    5  10     0  29.9  \n",
       "4    0.7  3.7    43    5  10     0  26.9  "
      ]
     },
     "execution_count": 3,
     "metadata": {},
     "output_type": "execute_result"
    }
   ],
   "source": [
    "# data\n",
    "\n",
    "path = os.getcwd()\n",
    "drama = pd.read_csv(path+'/drama.csv',sep=',')\n",
    "drama.head()"
   ]
  },
  {
   "cell_type": "code",
   "execution_count": 4,
   "metadata": {},
   "outputs": [
    {
     "data": {
      "text/plain": [
       "0      2.9\n",
       "1      2.9\n",
       "2      2.9\n",
       "3      2.9\n",
       "4      2.9\n",
       "      ... \n",
       "779   -0.3\n",
       "780   -0.3\n",
       "781   -0.3\n",
       "782   -0.3\n",
       "783   -0.3\n",
       "Name: CPI증감률, Length: 784, dtype: float64"
      ]
     },
     "execution_count": 4,
     "metadata": {},
     "output_type": "execute_result"
    }
   ],
   "source": [
    "drama.pop('드라마')\n",
    "drama.pop('날짜')\n",
    "drama.pop('CPI')\n",
    "drama.pop('CPI증감률')"
   ]
  },
  {
   "cell_type": "code",
   "execution_count": 5,
   "metadata": {},
   "outputs": [],
   "source": [
    "drama.rename(columns={'회차': 'Episode', '요일': 'Day', '배우': 'Actor', '경제성장률': 'GDP' , '실업률' : 'Job',  '미세먼지': 'Dust',\n",
    "                     '연출자': 'Director', '작가': 'Author', '특이사항': 'Exception', '시청률': 'Rate'}, inplace=True)"
   ]
  },
  {
   "cell_type": "code",
   "execution_count": 6,
   "metadata": {},
   "outputs": [
    {
     "name": "stdout",
     "output_type": "stream",
     "text": [
      "(784, 10)\n"
     ]
    },
    {
     "data": {
      "text/html": [
       "<div>\n",
       "<style scoped>\n",
       "    .dataframe tbody tr th:only-of-type {\n",
       "        vertical-align: middle;\n",
       "    }\n",
       "\n",
       "    .dataframe tbody tr th {\n",
       "        vertical-align: top;\n",
       "    }\n",
       "\n",
       "    .dataframe thead th {\n",
       "        text-align: right;\n",
       "    }\n",
       "</style>\n",
       "<table border=\"1\" class=\"dataframe\">\n",
       "  <thead>\n",
       "    <tr style=\"text-align: right;\">\n",
       "      <th></th>\n",
       "      <th>Episode</th>\n",
       "      <th>Day</th>\n",
       "      <th>Actor</th>\n",
       "      <th>GDP</th>\n",
       "      <th>Job</th>\n",
       "      <th>Dust</th>\n",
       "      <th>Director</th>\n",
       "      <th>Author</th>\n",
       "      <th>Exception</th>\n",
       "      <th>Rate</th>\n",
       "    </tr>\n",
       "  </thead>\n",
       "  <tbody>\n",
       "    <tr>\n",
       "      <td>0</td>\n",
       "      <td>1</td>\n",
       "      <td>0</td>\n",
       "      <td>75</td>\n",
       "      <td>0.7</td>\n",
       "      <td>4.2</td>\n",
       "      <td>47</td>\n",
       "      <td>5</td>\n",
       "      <td>10</td>\n",
       "      <td>0</td>\n",
       "      <td>22.3</td>\n",
       "    </tr>\n",
       "    <tr>\n",
       "      <td>1</td>\n",
       "      <td>2</td>\n",
       "      <td>1</td>\n",
       "      <td>75</td>\n",
       "      <td>0.7</td>\n",
       "      <td>4.2</td>\n",
       "      <td>47</td>\n",
       "      <td>5</td>\n",
       "      <td>10</td>\n",
       "      <td>0</td>\n",
       "      <td>28.9</td>\n",
       "    </tr>\n",
       "    <tr>\n",
       "      <td>2</td>\n",
       "      <td>3</td>\n",
       "      <td>0</td>\n",
       "      <td>75</td>\n",
       "      <td>0.7</td>\n",
       "      <td>3.7</td>\n",
       "      <td>43</td>\n",
       "      <td>5</td>\n",
       "      <td>10</td>\n",
       "      <td>0</td>\n",
       "      <td>25.7</td>\n",
       "    </tr>\n",
       "    <tr>\n",
       "      <td>3</td>\n",
       "      <td>4</td>\n",
       "      <td>1</td>\n",
       "      <td>75</td>\n",
       "      <td>0.7</td>\n",
       "      <td>3.7</td>\n",
       "      <td>43</td>\n",
       "      <td>5</td>\n",
       "      <td>10</td>\n",
       "      <td>0</td>\n",
       "      <td>29.9</td>\n",
       "    </tr>\n",
       "    <tr>\n",
       "      <td>4</td>\n",
       "      <td>5</td>\n",
       "      <td>0</td>\n",
       "      <td>75</td>\n",
       "      <td>0.7</td>\n",
       "      <td>3.7</td>\n",
       "      <td>43</td>\n",
       "      <td>5</td>\n",
       "      <td>10</td>\n",
       "      <td>0</td>\n",
       "      <td>26.9</td>\n",
       "    </tr>\n",
       "  </tbody>\n",
       "</table>\n",
       "</div>"
      ],
      "text/plain": [
       "   Episode  Day  Actor  GDP  Job  Dust  Director  Author  Exception  Rate\n",
       "0        1    0     75  0.7  4.2    47         5      10          0  22.3\n",
       "1        2    1     75  0.7  4.2    47         5      10          0  28.9\n",
       "2        3    0     75  0.7  3.7    43         5      10          0  25.7\n",
       "3        4    1     75  0.7  3.7    43         5      10          0  29.9\n",
       "4        5    0     75  0.7  3.7    43         5      10          0  26.9"
      ]
     },
     "execution_count": 6,
     "metadata": {},
     "output_type": "execute_result"
    }
   ],
   "source": [
    "print(drama.shape)\n",
    "drama.head()"
   ]
  },
  {
   "cell_type": "markdown",
   "metadata": {},
   "source": [
    "# PreProcessing"
   ]
  },
  {
   "cell_type": "code",
   "execution_count": 7,
   "metadata": {},
   "outputs": [
    {
     "data": {
      "text/plain": [
       "((784, 9), (784, 1))"
      ]
     },
     "execution_count": 7,
     "metadata": {},
     "output_type": "execute_result"
    }
   ],
   "source": [
    "from sklearn.preprocessing import StandardScaler\n",
    "\n",
    "scaler = StandardScaler()\n",
    "scaler.fit(drama.iloc[:,2:-2])\n",
    "X_scaled = scaler.transform(drama.iloc[:,2:-2])\n",
    "np.mean(X_scaled), np.std(X_scaled)\n",
    "drama.iloc[:,2:-2] = X_scaled\n",
    "\n",
    "X = drama.values[:,:-1]\n",
    "y = drama.iloc[:,-1:].values\n",
    "\n",
    "X.shape, y.shape"
   ]
  },
  {
   "cell_type": "code",
   "execution_count": 8,
   "metadata": {},
   "outputs": [
    {
     "data": {
      "text/plain": [
       "349.0"
      ]
     },
     "execution_count": 8,
     "metadata": {},
     "output_type": "execute_result"
    }
   ],
   "source": [
    "mean = 29.29\n",
    "y_label = np.zeros(784)\n",
    "\n",
    "for i in range(784):\n",
    "    if y[i] > mean :\n",
    "        y_label[i] = 1 # 흥행 성공\n",
    "        \n",
    "y_label.sum() # 저랑 숫자가 달라서 여쭤봅니다."
   ]
  },
  {
   "cell_type": "markdown",
   "metadata": {},
   "source": [
    "# Train_Test_Split"
   ]
  },
  {
   "cell_type": "code",
   "execution_count": 9,
   "metadata": {},
   "outputs": [
    {
     "name": "stdout",
     "output_type": "stream",
     "text": [
      "(588, 9) (196, 9) (588,) (196,)\n"
     ]
    }
   ],
   "source": [
    "from sklearn.model_selection import train_test_split\n",
    "\n",
    "X_train, X_test, y_train, y_test = train_test_split(X,y_label, test_size = 0.25, random_state = 777)\n",
    "\n",
    "print(\n",
    "    \n",
    "    X_train.shape,\n",
    "    X_test.shape,\n",
    "    y_train.shape,\n",
    "    y_test.shape\n",
    ")"
   ]
  },
  {
   "cell_type": "markdown",
   "metadata": {},
   "source": [
    "# Logisitc Regression"
   ]
  },
  {
   "cell_type": "code",
   "execution_count": 10,
   "metadata": {},
   "outputs": [
    {
     "name": "stdout",
     "output_type": "stream",
     "text": [
      "\n",
      "LR Confusion Matrix:\n",
      " [[100  11]\n",
      " [ 12  73]]\n",
      "              precision    recall  f1-score   support\n",
      "\n",
      "         0.0       0.89      0.90      0.90       111\n",
      "         1.0       0.87      0.86      0.86        85\n",
      "\n",
      "    accuracy                           0.88       196\n",
      "   macro avg       0.88      0.88      0.88       196\n",
      "weighted avg       0.88      0.88      0.88       196\n",
      "\n"
     ]
    },
    {
     "name": "stderr",
     "output_type": "stream",
     "text": [
      "/home/smsm8898/miniconda3/envs/tf/lib/python3.7/site-packages/sklearn/linear_model/logistic.py:432: FutureWarning: Default solver will be changed to 'lbfgs' in 0.22. Specify a solver to silence this warning.\n",
      "  FutureWarning)\n"
     ]
    }
   ],
   "source": [
    "from sklearn.linear_model import LogisticRegression\n",
    "from sklearn import metrics\n",
    "\n",
    "classifier = LogisticRegression()\n",
    "\n",
    "classifier.fit(X_train,y_train)\n",
    "\n",
    "expected = y_test\n",
    "predicted = classifier.predict(X_test)\n",
    "\n",
    "print('\\nLR Confusion Matrix:\\n',\n",
    "     metrics.confusion_matrix(expected,predicted))\n",
    "print(metrics.classification_report(expected,predicted))"
   ]
  },
  {
   "cell_type": "code",
   "execution_count": 11,
   "metadata": {},
   "outputs": [
    {
     "name": "stdout",
     "output_type": "stream",
     "text": [
      "23\n",
      "[16, 18, 34, 46, 58, 65, 66, 67, 69, 70, 95, 99, 128, 132, 135, 142, 152, 163, 164, 169, 175, 182, 193]\n"
     ]
    }
   ],
   "source": [
    "# 오분류 찾기\n",
    "error_label = list()\n",
    "\n",
    "for i in range(len(predicted)):\n",
    "    if predicted[i] != expected[i]:\n",
    "        error_label.append(i)\n",
    "        \n",
    "print(len(error_label))\n",
    "print(error_label)\n"
   ]
  },
  {
   "cell_type": "code",
   "execution_count": 18,
   "metadata": {},
   "outputs": [
    {
     "name": "stdout",
     "output_type": "stream",
     "text": [
      "10\n"
     ]
    },
    {
     "data": {
      "image/png": "[encoded data removed]",
      "text/plain": [
       "<Figure size 432x288 with 1 Axes>"
      ]
     },
     "metadata": {
      "needs_background": "light"
     },
     "output_type": "display_data"
    }
   ],
   "source": [
    "# 0인데 1로 오분류 : 10개\n",
    "print(len(drama.iloc[error_label][drama.iloc[error_label]['Rate']<=mean] ))\n",
    "drama.iloc[error_label][drama.iloc[error_label]['Rate']<=mean] \n",
    "plt.hist(drama.iloc[error_label][drama.iloc[error_label]['Rate']<=mean].Day,bins=[-.5,.5,1.5], ec=\"k\")\n",
    "plt.xlabel(\"Day\")\n",
    "plt.ylabel(\"Frequency\")\n",
    "plt.xticks(range(0,2))\n",
    "plt.yticks(range(10))\n",
    "plt.title(\"error\")\n",
    "plt.show()\n",
    "# day가 0이 상당히 많음"
   ]
  },
  {
   "cell_type": "code",
   "execution_count": 20,
   "metadata": {},
   "outputs": [
    {
     "name": "stdout",
     "output_type": "stream",
     "text": [
      "13\n"
     ]
    },
    {
     "data": {
      "image/png": "[encoded data removed]",
      "text/plain": [
       "<Figure size 432x288 with 1 Axes>"
      ]
     },
     "metadata": {
      "needs_background": "light"
     },
     "output_type": "display_data"
    }
   ],
   "source": [
    "# 1인데 0으로 오분류 : 12개\n",
    "print(len(drama.iloc[error_label][drama.iloc[error_label]['Rate']>mean] ))\n",
    "\n",
    "drama.iloc[error_label][drama.iloc[error_label]['Rate']>mean]\n",
    "plt.hist(drama.iloc[error_label][drama.iloc[error_label]['Rate']>mean].Day,bins=[-.5,.5,1.5], ec=\"k\")\n",
    "plt.xlabel(\"Day\")\n",
    "plt.ylabel(\"Frequency\")\n",
    "plt.xticks(range(0,2))\n",
    "plt.yticks(range(10))\n",
    "plt.title(\"error\")\n",
    "plt.show()\n",
    "# day가 1이 상당히 많음\n",
    "# Actor 점수가 74, 75, 76임"
   ]
  },
  {
   "cell_type": "code",
   "execution_count": 63,
   "metadata": {},
   "outputs": [
    {
     "name": "stdout",
     "output_type": "stream",
     "text": [
      "[75 76 58 74 55 72 53 62 61 66 64 79 65 73 63]\n",
      "[ 0.7  0.4  0.6  1.1  0.9  0.2  1.5  1.   0.5  0.8 -0.1 -0.4]\n",
      "[4.2 3.7 3.5 3.1 3.2 3.  2.9 2.7 2.6 2.4 3.9 3.8 3.4 3.3 2.8 4.  4.9 4.7\n",
      " 4.8 3.6 4.1 4.4]\n"
     ]
    }
   ],
   "source": [
    "print(drama['Actor'].unique()) # 53, 76, 15개\n",
    "print(drama['GDP'].unique()) # -0.4, , 1.5, 12개\n",
    "print(drama['Job'].unique()) # 2.4, 4.9, 22개"
   ]
  },
  {
   "cell_type": "code",
   "execution_count": 69,
   "metadata": {},
   "outputs": [
    {
     "data": {
      "text/plain": [
       "4.9"
      ]
     },
     "execution_count": 69,
     "metadata": {},
     "output_type": "execute_result"
    }
   ],
   "source": [
    "drama['Job'].max()"
   ]
  },
  {
   "cell_type": "code",
   "execution_count": 54,
   "metadata": {},
   "outputs": [
    {
     "data": {
      "image/png": "[encoded data removed]",
      "text/plain": [
       "<Figure size 432x288 with 3 Axes>"
      ]
     },
     "metadata": {
      "needs_background": "light"
     },
     "output_type": "display_data"
    }
   ],
   "source": [
    "hist1 = { 'Saturday':9, 'Sunday' : 1}\n",
    "hist2 = { 'Saturday':4, 'Sunday':9}\n",
    "hist3 = { 'Saturday':10, 'Sunday' : 2}\n",
    "hist4 = { 'Saturday':3, 'Sunday':6}\n",
    "\n",
    "# fig = plt.figure()\n",
    "\n",
    "plt.subplot(4,1,1)\n",
    "plt.bar(list(hist1.keys()), hist1.values())\n",
    "plt.xlabel(\"Day\")\n",
    "plt.ylabel(\"Frequency\")\n",
    "plt.title(\"LR 1 Error\")\n",
    "\n",
    "plt.subplot(4,1,2)\n",
    "plt.bar(list(hist2.keys()), hist2.values())\n",
    "plt.xlabel(\"Day\")\n",
    "plt.ylabel(\"Frequency\")\n",
    "plt.title(\"LR 0 Error\")\n",
    "\n",
    "plt.subplot(4,2,1)\n",
    "plt.bar(list(hist3.keys()), hist3.values())\n",
    "plt.xlabel(\"Day\")\n",
    "plt.ylabel(\"Frequency\")\n",
    "plt.title(\"RF 1 Error\")\n",
    "\n",
    "plt.subplot(4,2,2)\n",
    "plt.bar(list(hist4.keys()), hist4.values())\n",
    "plt.xlabel(\"Day\")\n",
    "plt.ylabel(\"Frequency\")\n",
    "plt.title(\"RF 0 Error\")\n",
    "\n",
    "\n",
    "plt.show()"
   ]
  },
  {
   "cell_type": "code",
   "execution_count": null,
   "metadata": {},
   "outputs": [],
   "source": [
    "hist = pd.DataFrame()"
   ]
  }
 ],
 "metadata": {
  "kernelspec": {
   "display_name": "[TF]",
   "language": "python",
   "name": "tf"
  },
  "language_info": {
   "codemirror_mode": {
    "name": "ipython",
    "version": 3
   },
   "file_extension": ".py",
   "mimetype": "text/x-python",
   "name": "python",
   "nbconvert_exporter": "python",
   "pygments_lexer": "ipython3",
   "version": "3.7.4"
  }
 },
 "nbformat": 4,
 "nbformat_minor": 4
}
