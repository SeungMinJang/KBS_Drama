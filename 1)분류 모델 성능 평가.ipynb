{
 "cells": [
  {
   "cell_type": "code",
   "execution_count": null,
   "metadata": {},
   "outputs": [],
   "source": [
    "import numpy as np\n",
    "import pandas as pd\n",
    "import sklearn\n",
    "import matplotlib.pyplot as plt\n",
    "import os"
   ]
  },
  {
   "cell_type": "code",
   "execution_count": 2,
   "metadata": {},
   "outputs": [
    {
     "data": {
      "text/html": [
       "<div>\n",
       "<style scoped>\n",
       "    .dataframe tbody tr th:only-of-type {\n",
       "        vertical-align: middle;\n",
       "    }\n",
       "\n",
       "    .dataframe tbody tr th {\n",
       "        vertical-align: top;\n",
       "    }\n",
       "\n",
       "    .dataframe thead th {\n",
       "        text-align: right;\n",
       "    }\n",
       "</style>\n",
       "<table border=\"1\" class=\"dataframe\">\n",
       "  <thead>\n",
       "    <tr style=\"text-align: right;\">\n",
       "      <th></th>\n",
       "      <th>드라마</th>\n",
       "      <th>날짜</th>\n",
       "      <th>회차</th>\n",
       "      <th>요일</th>\n",
       "      <th>배우</th>\n",
       "      <th>CPI</th>\n",
       "      <th>CPI증감률</th>\n",
       "      <th>경제성장률</th>\n",
       "      <th>실업률</th>\n",
       "      <th>미세먼지</th>\n",
       "      <th>연출자</th>\n",
       "      <th>작가</th>\n",
       "      <th>특이사항</th>\n",
       "      <th>시청률</th>\n",
       "    </tr>\n",
       "  </thead>\n",
       "  <tbody>\n",
       "    <tr>\n",
       "      <td>0</td>\n",
       "      <td>넝쿨째 굴러온 당신 (2012.02.25~2012.09.09)</td>\n",
       "      <td>2012.02.25</td>\n",
       "      <td>1</td>\n",
       "      <td>0</td>\n",
       "      <td>75</td>\n",
       "      <td>96.436</td>\n",
       "      <td>2.9</td>\n",
       "      <td>0.7</td>\n",
       "      <td>4.2</td>\n",
       "      <td>47</td>\n",
       "      <td>5</td>\n",
       "      <td>10</td>\n",
       "      <td>0</td>\n",
       "      <td>22.3</td>\n",
       "    </tr>\n",
       "    <tr>\n",
       "      <td>1</td>\n",
       "      <td>넝쿨째 굴러온 당신 (2012.02.25~2012.09.09)</td>\n",
       "      <td>2012.02.26</td>\n",
       "      <td>2</td>\n",
       "      <td>1</td>\n",
       "      <td>75</td>\n",
       "      <td>96.436</td>\n",
       "      <td>2.9</td>\n",
       "      <td>0.7</td>\n",
       "      <td>4.2</td>\n",
       "      <td>47</td>\n",
       "      <td>5</td>\n",
       "      <td>10</td>\n",
       "      <td>0</td>\n",
       "      <td>28.9</td>\n",
       "    </tr>\n",
       "    <tr>\n",
       "      <td>2</td>\n",
       "      <td>넝쿨째 굴러온 당신 (2012.02.25~2012.09.09)</td>\n",
       "      <td>2012.03.03</td>\n",
       "      <td>3</td>\n",
       "      <td>0</td>\n",
       "      <td>75</td>\n",
       "      <td>96.436</td>\n",
       "      <td>2.9</td>\n",
       "      <td>0.7</td>\n",
       "      <td>3.7</td>\n",
       "      <td>43</td>\n",
       "      <td>5</td>\n",
       "      <td>10</td>\n",
       "      <td>0</td>\n",
       "      <td>25.7</td>\n",
       "    </tr>\n",
       "    <tr>\n",
       "      <td>3</td>\n",
       "      <td>넝쿨째 굴러온 당신 (2012.02.25~2012.09.09)</td>\n",
       "      <td>2012.03.04</td>\n",
       "      <td>4</td>\n",
       "      <td>1</td>\n",
       "      <td>75</td>\n",
       "      <td>96.436</td>\n",
       "      <td>2.9</td>\n",
       "      <td>0.7</td>\n",
       "      <td>3.7</td>\n",
       "      <td>43</td>\n",
       "      <td>5</td>\n",
       "      <td>10</td>\n",
       "      <td>0</td>\n",
       "      <td>29.9</td>\n",
       "    </tr>\n",
       "    <tr>\n",
       "      <td>4</td>\n",
       "      <td>넝쿨째 굴러온 당신 (2012.02.25~2012.09.09)</td>\n",
       "      <td>2012.03.10</td>\n",
       "      <td>5</td>\n",
       "      <td>0</td>\n",
       "      <td>75</td>\n",
       "      <td>96.436</td>\n",
       "      <td>2.9</td>\n",
       "      <td>0.7</td>\n",
       "      <td>3.7</td>\n",
       "      <td>43</td>\n",
       "      <td>5</td>\n",
       "      <td>10</td>\n",
       "      <td>0</td>\n",
       "      <td>26.9</td>\n",
       "    </tr>\n",
       "  </tbody>\n",
       "</table>\n",
       "</div>"
      ],
      "text/plain": [
       "                                  드라마          날짜  회차  요일  배우     CPI  CPI증감률  \\\n",
       "0  넝쿨째 굴러온 당신 (2012.02.25~2012.09.09)  2012.02.25   1   0  75  96.436     2.9   \n",
       "1  넝쿨째 굴러온 당신 (2012.02.25~2012.09.09)  2012.02.26   2   1  75  96.436     2.9   \n",
       "2  넝쿨째 굴러온 당신 (2012.02.25~2012.09.09)  2012.03.03   3   0  75  96.436     2.9   \n",
       "3  넝쿨째 굴러온 당신 (2012.02.25~2012.09.09)  2012.03.04   4   1  75  96.436     2.9   \n",
       "4  넝쿨째 굴러온 당신 (2012.02.25~2012.09.09)  2012.03.10   5   0  75  96.436     2.9   \n",
       "\n",
       "   경제성장률  실업률  미세먼지  연출자  작가  특이사항   시청률  \n",
       "0    0.7  4.2    47    5  10     0  22.3  \n",
       "1    0.7  4.2    47    5  10     0  28.9  \n",
       "2    0.7  3.7    43    5  10     0  25.7  \n",
       "3    0.7  3.7    43    5  10     0  29.9  \n",
       "4    0.7  3.7    43    5  10     0  26.9  "
      ]
     },
     "execution_count": 2,
     "metadata": {},
     "output_type": "execute_result"
    }
   ],
   "source": [
    "# data\n",
    "\n",
    "path = os.getcwd()\n",
    "drama = pd.read_csv(path+'/drama.csv',sep=',')\n",
    "drama.head()"
   ]
  },
  {
   "cell_type": "code",
   "execution_count": 3,
   "metadata": {},
   "outputs": [
    {
     "data": {
      "text/plain": [
       "0      2.9\n",
       "1      2.9\n",
       "2      2.9\n",
       "3      2.9\n",
       "4      2.9\n",
       "      ... \n",
       "779   -0.3\n",
       "780   -0.3\n",
       "781   -0.3\n",
       "782   -0.3\n",
       "783   -0.3\n",
       "Name: CPI증감률, Length: 784, dtype: float64"
      ]
     },
     "execution_count": 3,
     "metadata": {},
     "output_type": "execute_result"
    }
   ],
   "source": [
    "drama.pop('드라마')\n",
    "drama.pop('날짜')\n",
    "drama.pop('CPI')\n",
    "drama.pop('CPI증감률')"
   ]
  },
  {
   "cell_type": "code",
   "execution_count": 4,
   "metadata": {},
   "outputs": [],
   "source": [
    "drama.rename(columns={'회차': 'Episode', '요일': 'Day', '배우': 'Actor', '경제성장률': 'GDP' , '실업률' : 'Job',  '미세먼지': 'Dust',\n",
    "                     '연출자': 'Director', '작가': 'Author', '특이사항': 'Exception', '시청률': 'Rate'}, inplace=True)"
   ]
  },
  {
   "cell_type": "code",
   "execution_count": 5,
   "metadata": {},
   "outputs": [
    {
     "name": "stdout",
     "output_type": "stream",
     "text": [
      "(784, 10)\n"
     ]
    },
    {
     "data": {
      "text/html": [
       "<div>\n",
       "<style scoped>\n",
       "    .dataframe tbody tr th:only-of-type {\n",
       "        vertical-align: middle;\n",
       "    }\n",
       "\n",
       "    .dataframe tbody tr th {\n",
       "        vertical-align: top;\n",
       "    }\n",
       "\n",
       "    .dataframe thead th {\n",
       "        text-align: right;\n",
       "    }\n",
       "</style>\n",
       "<table border=\"1\" class=\"dataframe\">\n",
       "  <thead>\n",
       "    <tr style=\"text-align: right;\">\n",
       "      <th></th>\n",
       "      <th>Episode</th>\n",
       "      <th>Day</th>\n",
       "      <th>Actor</th>\n",
       "      <th>GDP</th>\n",
       "      <th>Job</th>\n",
       "      <th>Dust</th>\n",
       "      <th>Director</th>\n",
       "      <th>Author</th>\n",
       "      <th>Exception</th>\n",
       "      <th>Rate</th>\n",
       "    </tr>\n",
       "  </thead>\n",
       "  <tbody>\n",
       "    <tr>\n",
       "      <td>0</td>\n",
       "      <td>1</td>\n",
       "      <td>0</td>\n",
       "      <td>75</td>\n",
       "      <td>0.7</td>\n",
       "      <td>4.2</td>\n",
       "      <td>47</td>\n",
       "      <td>5</td>\n",
       "      <td>10</td>\n",
       "      <td>0</td>\n",
       "      <td>22.3</td>\n",
       "    </tr>\n",
       "    <tr>\n",
       "      <td>1</td>\n",
       "      <td>2</td>\n",
       "      <td>1</td>\n",
       "      <td>75</td>\n",
       "      <td>0.7</td>\n",
       "      <td>4.2</td>\n",
       "      <td>47</td>\n",
       "      <td>5</td>\n",
       "      <td>10</td>\n",
       "      <td>0</td>\n",
       "      <td>28.9</td>\n",
       "    </tr>\n",
       "    <tr>\n",
       "      <td>2</td>\n",
       "      <td>3</td>\n",
       "      <td>0</td>\n",
       "      <td>75</td>\n",
       "      <td>0.7</td>\n",
       "      <td>3.7</td>\n",
       "      <td>43</td>\n",
       "      <td>5</td>\n",
       "      <td>10</td>\n",
       "      <td>0</td>\n",
       "      <td>25.7</td>\n",
       "    </tr>\n",
       "    <tr>\n",
       "      <td>3</td>\n",
       "      <td>4</td>\n",
       "      <td>1</td>\n",
       "      <td>75</td>\n",
       "      <td>0.7</td>\n",
       "      <td>3.7</td>\n",
       "      <td>43</td>\n",
       "      <td>5</td>\n",
       "      <td>10</td>\n",
       "      <td>0</td>\n",
       "      <td>29.9</td>\n",
       "    </tr>\n",
       "    <tr>\n",
       "      <td>4</td>\n",
       "      <td>5</td>\n",
       "      <td>0</td>\n",
       "      <td>75</td>\n",
       "      <td>0.7</td>\n",
       "      <td>3.7</td>\n",
       "      <td>43</td>\n",
       "      <td>5</td>\n",
       "      <td>10</td>\n",
       "      <td>0</td>\n",
       "      <td>26.9</td>\n",
       "    </tr>\n",
       "  </tbody>\n",
       "</table>\n",
       "</div>"
      ],
      "text/plain": [
       "   Episode  Day  Actor  GDP  Job  Dust  Director  Author  Exception  Rate\n",
       "0        1    0     75  0.7  4.2    47         5      10          0  22.3\n",
       "1        2    1     75  0.7  4.2    47         5      10          0  28.9\n",
       "2        3    0     75  0.7  3.7    43         5      10          0  25.7\n",
       "3        4    1     75  0.7  3.7    43         5      10          0  29.9\n",
       "4        5    0     75  0.7  3.7    43         5      10          0  26.9"
      ]
     },
     "execution_count": 5,
     "metadata": {},
     "output_type": "execute_result"
    }
   ],
   "source": [
    "print(drama.shape)\n",
    "drama.head()"
   ]
  },
  {
   "cell_type": "markdown",
   "metadata": {},
   "source": [
    "# PreProcessing"
   ]
  },
  {
   "cell_type": "code",
   "execution_count": 6,
   "metadata": {},
   "outputs": [
    {
     "data": {
      "text/plain": [
       "((784, 9), (784, 1))"
      ]
     },
     "execution_count": 6,
     "metadata": {},
     "output_type": "execute_result"
    }
   ],
   "source": [
    "from sklearn.preprocessing import StandardScaler\n",
    "\n",
    "scaler = StandardScaler()\n",
    "scaler.fit(drama.iloc[:,2:-2])\n",
    "X_scaled = scaler.transform(drama.iloc[:,2:-2])\n",
    "np.mean(X_scaled), np.std(X_scaled)\n",
    "drama.iloc[:,2:-2] = X_scaled\n",
    "\n",
    "X = drama.values[:,:-1]\n",
    "y = drama.iloc[:,-1:].values\n",
    "\n",
    "X.shape, y.shape"
   ]
  },
  {
   "cell_type": "code",
   "execution_count": 7,
   "metadata": {},
   "outputs": [
    {
     "data": {
      "text/plain": [
       "349.0"
      ]
     },
     "execution_count": 7,
     "metadata": {},
     "output_type": "execute_result"
    }
   ],
   "source": [
    "mean = 29.29\n",
    "y_label = np.zeros(784)\n",
    "\n",
    "for i in range(784):\n",
    "    if y[i] > mean :\n",
    "        y_label[i] = 1 # 흥행 성공\n",
    "        \n",
    "y_label.sum() # 저랑 숫자가 달라서 여쭤봅니다."
   ]
  },
  {
   "cell_type": "markdown",
   "metadata": {},
   "source": [
    "# Train_Test_Split"
   ]
  },
  {
   "cell_type": "code",
   "execution_count": 11,
   "metadata": {},
   "outputs": [
    {
     "name": "stdout",
     "output_type": "stream",
     "text": [
      "(588, 9) (196, 9) (588,) (196,)\n"
     ]
    }
   ],
   "source": [
    "from sklearn.model_selection import train_test_split\n",
    "\n",
    "X_train, X_test, y_train, y_test = train_test_split(X,y_label, test_size = 0.25, random_state = 777)\n",
    "\n",
    "print(\n",
    "    \n",
    "    X_train.shape,\n",
    "    X_test.shape,\n",
    "    y_train.shape,\n",
    "    y_test.shape\n",
    ")"
   ]
  },
  {
   "cell_type": "code",
   "execution_count": 12,
   "metadata": {},
   "outputs": [],
   "source": [
    "training_x = pd.DataFrame(X_train)\n",
    "training_y = pd.DataFrame(y_train)\n",
    "test_x = pd.DataFrame(X_test)\n",
    "test_y = pd.DataFrame(y_test)"
   ]
  },
  {
   "cell_type": "code",
   "execution_count": 13,
   "metadata": {},
   "outputs": [],
   "source": [
    "training_x.to_csv('X_train.csv')\n",
    "training_y.to_csv('y_train.csv')\n",
    "test_x.to_csv('X_test.csv')\n",
    "test_y.to_csv('y_test.csv')"
   ]
  },
  {
   "cell_type": "code",
   "execution_count": 14,
   "metadata": {},
   "outputs": [],
   "source": [
    "name = list()\n",
    "acc = list()\n",
    "f1 = list()"
   ]
  },
  {
   "cell_type": "markdown",
   "metadata": {},
   "source": [
    "# Logistic Regression"
   ]
  },
  {
   "cell_type": "code",
   "execution_count": 15,
   "metadata": {},
   "outputs": [
    {
     "name": "stdout",
     "output_type": "stream",
     "text": [
      "LR Accuracy:\n",
      " 0.8826530612244898\n",
      "\n",
      "LR Confusion Matrix:\n",
      " [[100  11]\n",
      " [ 12  73]]\n",
      "\n",
      "LR Precision:\n",
      " 0.8690476190476191\n",
      "\n",
      "LR Recall:\n",
      " 0.8588235294117647\n",
      "\n",
      "LR F-Score:\n",
      " 0.863905325443787\n"
     ]
    },
    {
     "name": "stderr",
     "output_type": "stream",
     "text": [
      "/home/smsm8898/miniconda3/envs/tf/lib/python3.7/site-packages/sklearn/linear_model/logistic.py:432: FutureWarning: Default solver will be changed to 'lbfgs' in 0.22. Specify a solver to silence this warning.\n",
      "  FutureWarning)\n"
     ]
    }
   ],
   "source": [
    "from sklearn.linear_model import LogisticRegression\n",
    "from sklearn import metrics\n",
    "\n",
    "classifier = LogisticRegression()\n",
    "classifier.fit(X_train,y_train)\n",
    "\n",
    "expected = y_test\n",
    "predicted = classifier.predict(X_test)\n",
    "\n",
    "# 성능평가\n",
    "print('LR Accuracy:\\n',\n",
    "     metrics.accuracy_score(expected,predicted))\n",
    "print('\\nLR Confusion Matrix:\\n',\n",
    "     metrics.confusion_matrix(expected, predicted))\n",
    "print('\\nLR Precision:\\n',\n",
    "     metrics.precision_score(expected, predicted,pos_label=1))\n",
    "print('\\nLR Recall:\\n',\n",
    "     metrics.recall_score(expected, predicted, pos_label=1))\n",
    "print('\\nLR F-Score:\\n',\n",
    "     metrics.f1_score(expected,predicted,pos_label=1))\n",
    "\n",
    "name.append('LogisticRegression')\n",
    "acc.append(metrics.accuracy_score(expected,predicted))\n",
    "f1.append(metrics.f1_score(expected,predicted,pos_label=1))"
   ]
  },
  {
   "cell_type": "markdown",
   "metadata": {},
   "source": [
    "# Random Forest Classifier"
   ]
  },
  {
   "cell_type": "code",
   "execution_count": 16,
   "metadata": {},
   "outputs": [
    {
     "name": "stdout",
     "output_type": "stream",
     "text": [
      "RF Accuracy:\n",
      " 0.9132653061224489\n",
      "\n",
      "RF Confusion Matrix:\n",
      " [[104   7]\n",
      " [ 10  75]]\n",
      "\n",
      "RF Precision:\n",
      " 0.9146341463414634\n",
      "\n",
      "RF Recall:\n",
      " 0.8823529411764706\n",
      "\n",
      "RF F-Score:\n",
      " 0.8982035928143712\n"
     ]
    }
   ],
   "source": [
    "from sklearn.ensemble import RandomForestClassifier\n",
    "\n",
    "classifier = RandomForestClassifier(\n",
    "    n_estimators = 50, # 약한 학습기의 개수\n",
    "    max_depth = 5, # 모델의 최대 깊이\n",
    "    criterion = 'gini' # 결정 트리 알고리즘\n",
    ")\n",
    "classifier.fit(X_train,y_train)\n",
    "\n",
    "expected = y_test\n",
    "predicted = classifier.predict(X_test)\n",
    "\n",
    "# 성능평가\n",
    "print('RF Accuracy:\\n',\n",
    "     metrics.accuracy_score(expected,predicted))\n",
    "print('\\nRF Confusion Matrix:\\n',\n",
    "     metrics.confusion_matrix(expected, predicted))\n",
    "print('\\nRF Precision:\\n',\n",
    "     metrics.precision_score(expected, predicted,pos_label=1))\n",
    "print('\\nRF Recall:\\n',\n",
    "     metrics.recall_score(expected, predicted, pos_label=1))\n",
    "print('\\nRF F-Score:\\n',\n",
    "     metrics.f1_score(expected,predicted,pos_label=1))\n",
    "\n",
    "name.append('RandomForestClassifier')\n",
    "acc.append(metrics.accuracy_score(expected,predicted))\n",
    "f1.append(metrics.f1_score(expected,predicted,pos_label=1))"
   ]
  },
  {
   "cell_type": "markdown",
   "metadata": {},
   "source": [
    "# SVM"
   ]
  },
  {
   "cell_type": "code",
   "execution_count": 17,
   "metadata": {},
   "outputs": [
    {
     "name": "stdout",
     "output_type": "stream",
     "text": [
      "SVC Accuracy:\n",
      " 0.8010204081632653\n",
      "\n",
      "SVC Confusion Matrix:\n",
      " [[94 17]\n",
      " [22 63]]\n",
      "\n",
      "SVC Precision:\n",
      " 0.7875\n",
      "\n",
      "SVC Recall:\n",
      " 0.7411764705882353\n",
      "\n",
      "SVC F-Score:\n",
      " 0.7636363636363637\n"
     ]
    },
    {
     "name": "stderr",
     "output_type": "stream",
     "text": [
      "/home/smsm8898/miniconda3/envs/tf/lib/python3.7/site-packages/sklearn/svm/base.py:193: FutureWarning: The default value of gamma will change from 'auto' to 'scale' in version 0.22 to account better for unscaled features. Set gamma explicitly to 'auto' or 'scale' to avoid this warning.\n",
      "  \"avoid this warning.\", FutureWarning)\n"
     ]
    }
   ],
   "source": [
    "from sklearn.svm import SVC\n",
    "\n",
    "classifier = SVC()\n",
    "classifier.fit(X_train,y_train)\n",
    "\n",
    "expected = y_test\n",
    "predicted = classifier.predict(X_test)\n",
    "\n",
    "# 성능평가\n",
    "print('SVC Accuracy:\\n',\n",
    "     metrics.accuracy_score(expected,predicted))\n",
    "print('\\nSVC Confusion Matrix:\\n',\n",
    "     metrics.confusion_matrix(expected, predicted))\n",
    "print('\\nSVC Precision:\\n',\n",
    "     metrics.precision_score(expected, predicted,pos_label=1))\n",
    "print('\\nSVC Recall:\\n',\n",
    "     metrics.recall_score(expected, predicted, pos_label=1))\n",
    "print('\\nSVC F-Score:\\n',\n",
    "     metrics.f1_score(expected,predicted,pos_label=1))\n",
    "\n",
    "name.append('SVC')\n",
    "acc.append(metrics.accuracy_score(expected,predicted))\n",
    "f1.append(metrics.f1_score(expected,predicted,pos_label=1))"
   ]
  },
  {
   "cell_type": "code",
   "execution_count": 18,
   "metadata": {},
   "outputs": [
    {
     "data": {
      "text/html": [
       "<div>\n",
       "<style scoped>\n",
       "    .dataframe tbody tr th:only-of-type {\n",
       "        vertical-align: middle;\n",
       "    }\n",
       "\n",
       "    .dataframe tbody tr th {\n",
       "        vertical-align: top;\n",
       "    }\n",
       "\n",
       "    .dataframe thead th {\n",
       "        text-align: right;\n",
       "    }\n",
       "</style>\n",
       "<table border=\"1\" class=\"dataframe\">\n",
       "  <thead>\n",
       "    <tr style=\"text-align: right;\">\n",
       "      <th></th>\n",
       "      <th>LogisticRegression</th>\n",
       "      <th>RandomForestClassifier</th>\n",
       "      <th>SVC</th>\n",
       "    </tr>\n",
       "  </thead>\n",
       "  <tbody>\n",
       "    <tr>\n",
       "      <td>Accuracy</td>\n",
       "      <td>0.882653</td>\n",
       "      <td>0.913265</td>\n",
       "      <td>0.801020</td>\n",
       "    </tr>\n",
       "    <tr>\n",
       "      <td>F-Score</td>\n",
       "      <td>0.863905</td>\n",
       "      <td>0.898204</td>\n",
       "      <td>0.763636</td>\n",
       "    </tr>\n",
       "  </tbody>\n",
       "</table>\n",
       "</div>"
      ],
      "text/plain": [
       "          LogisticRegression  RandomForestClassifier       SVC\n",
       "Accuracy            0.882653                0.913265  0.801020\n",
       "F-Score             0.863905                0.898204  0.763636"
      ]
     },
     "execution_count": 18,
     "metadata": {},
     "output_type": "execute_result"
    }
   ],
   "source": [
    "result = pd.DataFrame(index=name)\n",
    "result['Accuracy'] = acc\n",
    "result['F-Score'] = f1\n",
    "result.T"
   ]
  },
  {
   "cell_type": "code",
   "execution_count": null,
   "metadata": {},
   "outputs": [],
   "source": []
  }
 ],
 "metadata": {
  "kernelspec": {
   "display_name": "[TF]",
   "language": "python",
   "name": "tf"
  },
  "language_info": {
   "codemirror_mode": {
    "name": "ipython",
    "version": 3
   },
   "file_extension": ".py",
   "mimetype": "text/x-python",
   "name": "python",
   "nbconvert_exporter": "python",
   "pygments_lexer": "ipython3",
   "version": "3.7.4"
  }
 },
 "nbformat": 4,
 "nbformat_minor": 4
}
