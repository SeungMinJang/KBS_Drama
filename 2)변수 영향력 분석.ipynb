{
 "cells": [
  {
   "cell_type": "code",
   "execution_count": 1,
   "metadata": {},
   "outputs": [],
   "source": [
    "import numpy as np\n",
    "import pandas as pd\n",
    "import sklearn\n",
    "import matplotlib.pyplot as plt\n",
    "import os"
   ]
  },
  {
   "cell_type": "code",
   "execution_count": 2,
   "metadata": {},
   "outputs": [
    {
     "data": {
      "text/html": [
       "<div>\n",
       "<style scoped>\n",
       "    .dataframe tbody tr th:only-of-type {\n",
       "        vertical-align: middle;\n",
       "    }\n",
       "\n",
       "    .dataframe tbody tr th {\n",
       "        vertical-align: top;\n",
       "    }\n",
       "\n",
       "    .dataframe thead th {\n",
       "        text-align: right;\n",
       "    }\n",
       "</style>\n",
       "<table border=\"1\" class=\"dataframe\">\n",
       "  <thead>\n",
       "    <tr style=\"text-align: right;\">\n",
       "      <th></th>\n",
       "      <th>드라마</th>\n",
       "      <th>날짜</th>\n",
       "      <th>회차</th>\n",
       "      <th>요일</th>\n",
       "      <th>배우</th>\n",
       "      <th>CPI</th>\n",
       "      <th>CPI증감률</th>\n",
       "      <th>경제성장률</th>\n",
       "      <th>실업률</th>\n",
       "      <th>미세먼지</th>\n",
       "      <th>연출자</th>\n",
       "      <th>작가</th>\n",
       "      <th>특이사항</th>\n",
       "      <th>시청률</th>\n",
       "    </tr>\n",
       "  </thead>\n",
       "  <tbody>\n",
       "    <tr>\n",
       "      <td>0</td>\n",
       "      <td>넝쿨째 굴러온 당신 (2012.02.25~2012.09.09)</td>\n",
       "      <td>2012.02.25</td>\n",
       "      <td>1</td>\n",
       "      <td>0</td>\n",
       "      <td>75</td>\n",
       "      <td>96.436</td>\n",
       "      <td>2.9</td>\n",
       "      <td>0.7</td>\n",
       "      <td>4.2</td>\n",
       "      <td>47</td>\n",
       "      <td>5</td>\n",
       "      <td>10</td>\n",
       "      <td>0</td>\n",
       "      <td>22.3</td>\n",
       "    </tr>\n",
       "    <tr>\n",
       "      <td>1</td>\n",
       "      <td>넝쿨째 굴러온 당신 (2012.02.25~2012.09.09)</td>\n",
       "      <td>2012.02.26</td>\n",
       "      <td>2</td>\n",
       "      <td>1</td>\n",
       "      <td>75</td>\n",
       "      <td>96.436</td>\n",
       "      <td>2.9</td>\n",
       "      <td>0.7</td>\n",
       "      <td>4.2</td>\n",
       "      <td>47</td>\n",
       "      <td>5</td>\n",
       "      <td>10</td>\n",
       "      <td>0</td>\n",
       "      <td>28.9</td>\n",
       "    </tr>\n",
       "    <tr>\n",
       "      <td>2</td>\n",
       "      <td>넝쿨째 굴러온 당신 (2012.02.25~2012.09.09)</td>\n",
       "      <td>2012.03.03</td>\n",
       "      <td>3</td>\n",
       "      <td>0</td>\n",
       "      <td>75</td>\n",
       "      <td>96.436</td>\n",
       "      <td>2.9</td>\n",
       "      <td>0.7</td>\n",
       "      <td>3.7</td>\n",
       "      <td>43</td>\n",
       "      <td>5</td>\n",
       "      <td>10</td>\n",
       "      <td>0</td>\n",
       "      <td>25.7</td>\n",
       "    </tr>\n",
       "    <tr>\n",
       "      <td>3</td>\n",
       "      <td>넝쿨째 굴러온 당신 (2012.02.25~2012.09.09)</td>\n",
       "      <td>2012.03.04</td>\n",
       "      <td>4</td>\n",
       "      <td>1</td>\n",
       "      <td>75</td>\n",
       "      <td>96.436</td>\n",
       "      <td>2.9</td>\n",
       "      <td>0.7</td>\n",
       "      <td>3.7</td>\n",
       "      <td>43</td>\n",
       "      <td>5</td>\n",
       "      <td>10</td>\n",
       "      <td>0</td>\n",
       "      <td>29.9</td>\n",
       "    </tr>\n",
       "    <tr>\n",
       "      <td>4</td>\n",
       "      <td>넝쿨째 굴러온 당신 (2012.02.25~2012.09.09)</td>\n",
       "      <td>2012.03.10</td>\n",
       "      <td>5</td>\n",
       "      <td>0</td>\n",
       "      <td>75</td>\n",
       "      <td>96.436</td>\n",
       "      <td>2.9</td>\n",
       "      <td>0.7</td>\n",
       "      <td>3.7</td>\n",
       "      <td>43</td>\n",
       "      <td>5</td>\n",
       "      <td>10</td>\n",
       "      <td>0</td>\n",
       "      <td>26.9</td>\n",
       "    </tr>\n",
       "  </tbody>\n",
       "</table>\n",
       "</div>"
      ],
      "text/plain": [
       "                                  드라마          날짜  회차  요일  배우     CPI  CPI증감률  \\\n",
       "0  넝쿨째 굴러온 당신 (2012.02.25~2012.09.09)  2012.02.25   1   0  75  96.436     2.9   \n",
       "1  넝쿨째 굴러온 당신 (2012.02.25~2012.09.09)  2012.02.26   2   1  75  96.436     2.9   \n",
       "2  넝쿨째 굴러온 당신 (2012.02.25~2012.09.09)  2012.03.03   3   0  75  96.436     2.9   \n",
       "3  넝쿨째 굴러온 당신 (2012.02.25~2012.09.09)  2012.03.04   4   1  75  96.436     2.9   \n",
       "4  넝쿨째 굴러온 당신 (2012.02.25~2012.09.09)  2012.03.10   5   0  75  96.436     2.9   \n",
       "\n",
       "   경제성장률  실업률  미세먼지  연출자  작가  특이사항   시청률  \n",
       "0    0.7  4.2    47    5  10     0  22.3  \n",
       "1    0.7  4.2    47    5  10     0  28.9  \n",
       "2    0.7  3.7    43    5  10     0  25.7  \n",
       "3    0.7  3.7    43    5  10     0  29.9  \n",
       "4    0.7  3.7    43    5  10     0  26.9  "
      ]
     },
     "execution_count": 2,
     "metadata": {},
     "output_type": "execute_result"
    }
   ],
   "source": [
    "# data\n",
    "\n",
    "path = os.getcwd()\n",
    "drama = pd.read_csv(path+'/drama.csv',sep=',')\n",
    "drama.head()"
   ]
  },
  {
   "cell_type": "code",
   "execution_count": 3,
   "metadata": {},
   "outputs": [
    {
     "data": {
      "text/plain": [
       "0      2.9\n",
       "1      2.9\n",
       "2      2.9\n",
       "3      2.9\n",
       "4      2.9\n",
       "      ... \n",
       "779   -0.3\n",
       "780   -0.3\n",
       "781   -0.3\n",
       "782   -0.3\n",
       "783   -0.3\n",
       "Name: CPI증감률, Length: 784, dtype: float64"
      ]
     },
     "execution_count": 3,
     "metadata": {},
     "output_type": "execute_result"
    }
   ],
   "source": [
    "drama.pop('드라마')\n",
    "drama.pop('날짜')\n",
    "drama.pop('CPI')\n",
    "drama.pop('CPI증감률')"
   ]
  },
  {
   "cell_type": "code",
   "execution_count": 4,
   "metadata": {},
   "outputs": [],
   "source": [
    "drama.rename(columns={'회차': 'Episode', '요일': 'Day', '배우': 'Actor', '경제성장률': 'GDP' , '실업률' : 'Job',  '미세먼지': 'Dust',\n",
    "                     '연출자': 'Director', '작가': 'Author', '특이사항': 'Exception', '시청률': 'Rate'}, inplace=True)"
   ]
  },
  {
   "cell_type": "code",
   "execution_count": 5,
   "metadata": {},
   "outputs": [
    {
     "name": "stdout",
     "output_type": "stream",
     "text": [
      "(784, 10)\n"
     ]
    },
    {
     "data": {
      "text/html": [
       "<div>\n",
       "<style scoped>\n",
       "    .dataframe tbody tr th:only-of-type {\n",
       "        vertical-align: middle;\n",
       "    }\n",
       "\n",
       "    .dataframe tbody tr th {\n",
       "        vertical-align: top;\n",
       "    }\n",
       "\n",
       "    .dataframe thead th {\n",
       "        text-align: right;\n",
       "    }\n",
       "</style>\n",
       "<table border=\"1\" class=\"dataframe\">\n",
       "  <thead>\n",
       "    <tr style=\"text-align: right;\">\n",
       "      <th></th>\n",
       "      <th>Actor</th>\n",
       "      <th>GDP</th>\n",
       "      <th>Job</th>\n",
       "      <th>Dust</th>\n",
       "      <th>Director</th>\n",
       "      <th>Author</th>\n",
       "    </tr>\n",
       "  </thead>\n",
       "  <tbody>\n",
       "    <tr>\n",
       "      <td>0</td>\n",
       "      <td>75</td>\n",
       "      <td>0.7</td>\n",
       "      <td>4.2</td>\n",
       "      <td>47</td>\n",
       "      <td>5</td>\n",
       "      <td>10</td>\n",
       "    </tr>\n",
       "    <tr>\n",
       "      <td>1</td>\n",
       "      <td>75</td>\n",
       "      <td>0.7</td>\n",
       "      <td>4.2</td>\n",
       "      <td>47</td>\n",
       "      <td>5</td>\n",
       "      <td>10</td>\n",
       "    </tr>\n",
       "    <tr>\n",
       "      <td>2</td>\n",
       "      <td>75</td>\n",
       "      <td>0.7</td>\n",
       "      <td>3.7</td>\n",
       "      <td>43</td>\n",
       "      <td>5</td>\n",
       "      <td>10</td>\n",
       "    </tr>\n",
       "    <tr>\n",
       "      <td>3</td>\n",
       "      <td>75</td>\n",
       "      <td>0.7</td>\n",
       "      <td>3.7</td>\n",
       "      <td>43</td>\n",
       "      <td>5</td>\n",
       "      <td>10</td>\n",
       "    </tr>\n",
       "    <tr>\n",
       "      <td>4</td>\n",
       "      <td>75</td>\n",
       "      <td>0.7</td>\n",
       "      <td>3.7</td>\n",
       "      <td>43</td>\n",
       "      <td>5</td>\n",
       "      <td>10</td>\n",
       "    </tr>\n",
       "    <tr>\n",
       "      <td>...</td>\n",
       "      <td>...</td>\n",
       "      <td>...</td>\n",
       "      <td>...</td>\n",
       "      <td>...</td>\n",
       "      <td>...</td>\n",
       "      <td>...</td>\n",
       "    </tr>\n",
       "    <tr>\n",
       "      <td>779</td>\n",
       "      <td>63</td>\n",
       "      <td>1.0</td>\n",
       "      <td>3.0</td>\n",
       "      <td>24</td>\n",
       "      <td>3</td>\n",
       "      <td>6</td>\n",
       "    </tr>\n",
       "    <tr>\n",
       "      <td>780</td>\n",
       "      <td>63</td>\n",
       "      <td>1.0</td>\n",
       "      <td>3.0</td>\n",
       "      <td>24</td>\n",
       "      <td>3</td>\n",
       "      <td>6</td>\n",
       "    </tr>\n",
       "    <tr>\n",
       "      <td>781</td>\n",
       "      <td>63</td>\n",
       "      <td>1.0</td>\n",
       "      <td>3.0</td>\n",
       "      <td>24</td>\n",
       "      <td>3</td>\n",
       "      <td>6</td>\n",
       "    </tr>\n",
       "    <tr>\n",
       "      <td>782</td>\n",
       "      <td>63</td>\n",
       "      <td>1.0</td>\n",
       "      <td>3.0</td>\n",
       "      <td>24</td>\n",
       "      <td>3</td>\n",
       "      <td>6</td>\n",
       "    </tr>\n",
       "    <tr>\n",
       "      <td>783</td>\n",
       "      <td>63</td>\n",
       "      <td>1.0</td>\n",
       "      <td>3.0</td>\n",
       "      <td>24</td>\n",
       "      <td>3</td>\n",
       "      <td>6</td>\n",
       "    </tr>\n",
       "  </tbody>\n",
       "</table>\n",
       "<p>784 rows × 6 columns</p>\n",
       "</div>"
      ],
      "text/plain": [
       "     Actor  GDP  Job  Dust  Director  Author\n",
       "0       75  0.7  4.2    47         5      10\n",
       "1       75  0.7  4.2    47         5      10\n",
       "2       75  0.7  3.7    43         5      10\n",
       "3       75  0.7  3.7    43         5      10\n",
       "4       75  0.7  3.7    43         5      10\n",
       "..     ...  ...  ...   ...       ...     ...\n",
       "779     63  1.0  3.0    24         3       6\n",
       "780     63  1.0  3.0    24         3       6\n",
       "781     63  1.0  3.0    24         3       6\n",
       "782     63  1.0  3.0    24         3       6\n",
       "783     63  1.0  3.0    24         3       6\n",
       "\n",
       "[784 rows x 6 columns]"
      ]
     },
     "execution_count": 5,
     "metadata": {},
     "output_type": "execute_result"
    }
   ],
   "source": [
    "print(drama.shape)\n",
    "drama.head()\n",
    "drama.iloc[:,2:-2]"
   ]
  },
  {
   "cell_type": "markdown",
   "metadata": {},
   "source": [
    "# PreProcessing"
   ]
  },
  {
   "cell_type": "code",
   "execution_count": 6,
   "metadata": {},
   "outputs": [
    {
     "data": {
      "text/plain": [
       "((784, 9), (784, 1))"
      ]
     },
     "execution_count": 6,
     "metadata": {},
     "output_type": "execute_result"
    }
   ],
   "source": [
    "from sklearn.preprocessing import StandardScaler\n",
    "\n",
    "scaler = StandardScaler()\n",
    "scaler.fit(drama.iloc[:,2:-2])\n",
    "X_scaled = scaler.transform(drama.iloc[:,2:-2])\n",
    "np.mean(X_scaled), np.std(X_scaled)\n",
    "drama.iloc[:,2:-2] = X_scaled\n",
    "\n",
    "X = drama.values[:,:-1]\n",
    "y = drama.iloc[:,-1:].values\n",
    "\n",
    "X.shape, y.shape"
   ]
  },
  {
   "cell_type": "code",
   "execution_count": 7,
   "metadata": {},
   "outputs": [
    {
     "data": {
      "text/plain": [
       "349.0"
      ]
     },
     "execution_count": 7,
     "metadata": {},
     "output_type": "execute_result"
    }
   ],
   "source": [
    "mean = 29.29\n",
    "y_label = np.zeros(784)\n",
    "\n",
    "for i in range(784):\n",
    "    if y[i] > mean :\n",
    "        y_label[i] = 1 # 흥행 성공\n",
    "        \n",
    "y_label.sum() # 저랑 숫자가 달라서 여쭤봅니다."
   ]
  },
  {
   "cell_type": "markdown",
   "metadata": {},
   "source": [
    "# Train_Test_Split"
   ]
  },
  {
   "cell_type": "code",
   "execution_count": 8,
   "metadata": {},
   "outputs": [
    {
     "name": "stdout",
     "output_type": "stream",
     "text": [
      "(588, 9) (196, 9) (588,) (196,)\n"
     ]
    }
   ],
   "source": [
    "from sklearn.model_selection import train_test_split\n",
    "\n",
    "X_train, X_test, y_train, y_test = train_test_split(X,y_label, test_size = 0.25, random_state = 777)\n",
    "\n",
    "print(\n",
    "    \n",
    "    X_train.shape,\n",
    "    X_test.shape,\n",
    "    y_train.shape,\n",
    "    y_test.shape\n",
    ")"
   ]
  },
  {
   "cell_type": "markdown",
   "metadata": {},
   "source": [
    "# Logisitc Regression"
   ]
  },
  {
   "cell_type": "code",
   "execution_count": 9,
   "metadata": {},
   "outputs": [
    {
     "name": "stdout",
     "output_type": "stream",
     "text": [
      "\n",
      "LR Confusion Matrix:\n",
      " [[100  11]\n",
      " [ 12  73]]\n",
      "              precision    recall  f1-score   support\n",
      "\n",
      "         0.0       0.89      0.90      0.90       111\n",
      "         1.0       0.87      0.86      0.86        85\n",
      "\n",
      "    accuracy                           0.88       196\n",
      "   macro avg       0.88      0.88      0.88       196\n",
      "weighted avg       0.88      0.88      0.88       196\n",
      "\n"
     ]
    },
    {
     "name": "stderr",
     "output_type": "stream",
     "text": [
      "/home/smsm8898/miniconda3/envs/tf/lib/python3.7/site-packages/sklearn/linear_model/logistic.py:432: FutureWarning: Default solver will be changed to 'lbfgs' in 0.22. Specify a solver to silence this warning.\n",
      "  FutureWarning)\n"
     ]
    }
   ],
   "source": [
    "from sklearn.linear_model import LogisticRegression\n",
    "from sklearn import metrics\n",
    "\n",
    "classifier = LogisticRegression()\n",
    "\n",
    "classifier.fit(X_train,y_train)\n",
    "\n",
    "expected = y_test\n",
    "predicted = classifier.predict(X_test)\n",
    "\n",
    "print('\\nLR Confusion Matrix:\\n',\n",
    "     metrics.confusion_matrix(expected,predicted))\n",
    "print(metrics.classification_report(expected,predicted))"
   ]
  },
  {
   "cell_type": "code",
   "execution_count": 15,
   "metadata": {},
   "outputs": [
    {
     "name": "stdout",
     "output_type": "stream",
     "text": [
      "Optimization terminated successfully.\n",
      "         Current function value: 0.512301\n",
      "         Iterations 6\n",
      "                           Logit Regression Results                           \n",
      "==============================================================================\n",
      "Dep. Variable:                      y   No. Observations:                  588\n",
      "Model:                          Logit   Df Residuals:                      579\n",
      "Method:                           MLE   Df Model:                            8\n",
      "Date:                Sat, 26 Oct 2019   Pseudo R-squ.:                  0.2553\n",
      "Time:                        19:18:13   Log-Likelihood:                -301.23\n",
      "converged:                       True   LL-Null:                       -404.50\n",
      "Covariance Type:            nonrobust   LLR p-value:                 2.669e-40\n",
      "==============================================================================\n",
      "                 coef    std err          z      P>|z|      [0.025      0.975]\n",
      "------------------------------------------------------------------------------\n",
      "x1             0.0034      0.005      0.737      0.461      -0.006       0.012\n",
      "x2             0.6680      0.185      3.610      0.000       0.305       1.031\n",
      "x3             1.9513      0.439      4.446      0.000       1.091       2.812\n",
      "x4             0.0375      0.112      0.335      0.737      -0.182       0.257\n",
      "x5            -0.5557      0.151     -3.675      0.000      -0.852      -0.259\n",
      "x6             0.2146      0.106      2.020      0.043       0.006       0.423\n",
      "x7            -0.3773      0.406     -0.928      0.353      -1.174       0.419\n",
      "x8            -0.5956      0.436     -1.367      0.172      -1.450       0.258\n",
      "x9            -1.5475      0.458     -3.381      0.001      -2.444      -0.650\n",
      "==============================================================================\n",
      "####x1:num, x2:day, x3:actor, x4:GDP, x5:job, x6:dust, x7:director, x8:author, x9:spe####\n"
     ]
    }
   ],
   "source": [
    "import statsmodels.api as sm\n",
    "\n",
    "logit = sm.Logit(y_train, X_train)\n",
    "# logit = sm.Logit(y_train.astype(np.float), X_train.astype(np.float))\n",
    "\n",
    "result = logit.fit()\n",
    "\n",
    "print(result.summary())\n",
    "print(\"####x1:num, x2:day, x3:actor, x4:GDP, x5:job, x6:dust, x7:director, x8:author, x9:spe####\")"
   ]
  },
  {
   "cell_type": "markdown",
   "metadata": {},
   "source": [
    "# Random Forest Classifier"
   ]
  },
  {
   "cell_type": "code",
   "execution_count": 18,
   "metadata": {},
   "outputs": [
    {
     "name": "stdout",
     "output_type": "stream",
     "text": [
      "\n",
      "RF Confusion Matrix:\n",
      " [[104   7]\n",
      " [  9  76]]\n",
      "              precision    recall  f1-score   support\n",
      "\n",
      "         0.0       0.92      0.94      0.93       111\n",
      "         1.0       0.92      0.89      0.90        85\n",
      "\n",
      "    accuracy                           0.92       196\n",
      "   macro avg       0.92      0.92      0.92       196\n",
      "weighted avg       0.92      0.92      0.92       196\n",
      "\n"
     ]
    }
   ],
   "source": [
    "from sklearn.ensemble import RandomForestClassifier\n",
    "from sklearn import metrics\n",
    "\n",
    "classifier = RandomForestClassifier(\n",
    "    n_estimators = 50, # 약한 학습기의 개수\n",
    "    max_depth = 5, # 모델의 최대 깊이\n",
    "    criterion = 'gini' # 결정 트리 알고리즘\n",
    ")\n",
    "\n",
    "classifier.fit(X_train,y_train)\n",
    "\n",
    "expected = y_test\n",
    "predicted = classifier.predict(X_test)\n",
    "\n",
    "print('\\nRF Confusion Matrix:\\n',\n",
    "     metrics.confusion_matrix(expected,predicted))\n",
    "print(metrics.classification_report(expected,predicted))"
   ]
  },
  {
   "cell_type": "code",
   "execution_count": 22,
   "metadata": {},
   "outputs": [
    {
     "name": "stdout",
     "output_type": "stream",
     "text": [
      "특성 중요도 : \n",
      "[0.32290664 0.14513033 0.16821986 0.02555861 0.04018303 0.06900925\n",
      " 0.08789157 0.13662959 0.00447113]\n",
      "####x1:num, x2:day, x3:actor, x4:GDP, x5:job, x6:dust, x7:director, x8:author, x9:spe####\n"
     ]
    },
    {
     "data": {
      "image/png": "[encoded data removed]",
      "text/plain": [
       "<Figure size 432x288 with 1 Axes>"
      ]
     },
     "metadata": {
      "needs_background": "light"
     },
     "output_type": "display_data"
    }
   ],
   "source": [
    "# 특성 중요도\n",
    "\n",
    "print(\"특성 중요도 : \\n{}\".format(classifier.feature_importances_))\n",
    "\n",
    "\n",
    "\n",
    "# 특성 중요도 시각화 하기\n",
    "\n",
    "def plot_feature_importances_drama(classifier):\n",
    "\n",
    "    n_features = drama.shape[1]-1\n",
    "\n",
    "    plt.barh(range(n_features), classifier.feature_importances_, align='center')\n",
    "\n",
    "    plt.yticks(np.arange(n_features), drama.columns)\n",
    "\n",
    "    plt.xlabel(\"feature importances\")\n",
    "\n",
    "    plt.ylabel(\"features\")\n",
    "\n",
    "    plt.ylim(-1, n_features)\n",
    "\n",
    "plt.show()\n",
    "print(\"####x1:num, x2:day, x3:actor, x4:GDP, x5:job, x6:dust, x7:director, x8:author, x9:spe####\")\n",
    "plot_feature_importances_drama(classifier)"
   ]
  },
  {
   "cell_type": "markdown",
   "metadata": {},
   "source": [
    "# SVM"
   ]
  },
  {
   "cell_type": "code",
   "execution_count": 14,
   "metadata": {},
   "outputs": [
    {
     "name": "stdout",
     "output_type": "stream",
     "text": [
      "\n",
      "SVC Confusion Matrix:\n",
      " [[104   7]\n",
      " [ 12  73]]\n",
      "              precision    recall  f1-score   support\n",
      "\n",
      "         0.0       0.90      0.94      0.92       111\n",
      "         1.0       0.91      0.86      0.88        85\n",
      "\n",
      "    accuracy                           0.90       196\n",
      "   macro avg       0.90      0.90      0.90       196\n",
      "weighted avg       0.90      0.90      0.90       196\n",
      "\n"
     ]
    }
   ],
   "source": [
    "from sklearn.svm import SVC\n",
    "\n",
    "classifier = SVC(\n",
    "    kernel='linear'\n",
    "#     C=1, # 페널티 파라미터 - 어느 정도 오류 분류를 허용\n",
    "#     gamma = 0.001 # 큰 값이 설정되면 복잡한 분리 곡면을 지정\n",
    ")\n",
    "classifier.fit(X_train,y_train)\n",
    "\n",
    "expected = y_test\n",
    "predicted = classifier.predict(X_test)\n",
    "\n",
    "# 성능평가\n",
    "print('\\nSVC Confusion Matrix:\\n',\n",
    "     metrics.confusion_matrix(expected, predicted))\n",
    "print(metrics.classification_report(expected,predicted))"
   ]
  },
  {
   "cell_type": "code",
   "execution_count": 15,
   "metadata": {},
   "outputs": [
    {
     "name": "stdout",
     "output_type": "stream",
     "text": [
      "\n",
      "Coefficient:\n",
      " [ 0.01503176  0.33454687  0.33391867 -0.0004782  -0.00173324  0.07479977\n",
      " -0.0516248  -0.03716395 -0.16731111]\n",
      "\n",
      "x1:Episode, x2:Day, x3:Actor, x4:GDP, x5:Job, x6:Dust, x7:Director, x8:Author, x9:Exception\n",
      "\n",
      "\n",
      "Intercept:\n",
      " -0.11387114788899494\n",
      "\n",
      "R2-Score\n",
      ": 0.5695619504603149\n",
      "\n",
      "MSE\n",
      ": [0.10571593]\n"
     ]
    }
   ],
   "source": [
    "from sklearn.linear_model import LinearRegression\n",
    "from sklearn.metrics import mean_squared_error\n",
    "\n",
    "model = LinearRegression()\n",
    "model.fit(X_train,y_train)\n",
    "\n",
    "y_pred = model.predict(X_test)\n",
    "\n",
    "print('\\nCoefficient:\\n',model.coef_)\n",
    "print(\"\\nx1:Episode, x2:Day, x3:Actor, x4:GDP, x5:Job, x6:Dust, x7:Director, x8:Author, x9:Exception\\n\")\n",
    "print('\\nIntercept:\\n',model.intercept_)\n",
    "print('\\nR2-Score\\n:', model.score(X_test,y_test))\n",
    "print('\\nMSE\\n:', mean_squared_error(y_test, y_pred, multioutput='raw_values'))"
   ]
  },
  {
   "cell_type": "markdown",
   "metadata": {},
   "source": [
    "=============================================================================================\n",
    "LR Accuracy: 0.89\n",
    "LR F1 : 0.87\n",
    "Logistic Regression에서는 \n",
    "x3:Actor, x1:Episode, x2:Day, x6:Dust 의 coef가 상당가 매우 크고 p-value가 낮음\n",
    "\n",
    "RF Accuracy: 0.91\n",
    "RF F1 : 0.90\n",
    "Random Forest는 \n",
    "x1:Episode, x3:Actor, x2:Day, x8:Author 순으로 Feature Importance가 나옴\n",
    "\n",
    "=> 상위 3개는 같고 4번째는 다름\n",
    "\n",
    "어떤 점에서 비슷한 모양이 나올까 궁금해서 linear SVC을 사용해봄\n",
    "\n",
    "SVC Accuracy : 0.90\n",
    "SVC F1 : 0.88\n",
    "=> linear kernel을 했을 때, accuracy가 상당히 높은거로 봐서 linear한 관계가 있음을 알 수 있음\n",
    "\n",
    "좀 더 확실하게 확정짓고 싶어서 Linear Regression 실행\n",
    "x3:Actor x1:Episode x2:Day x6:Dust의 순서로 coef의 크기가 큼 => 시청률과 각 변수는 확실하게 선형적인 관계가 있음을 확인"
   ]
  },
  {
   "cell_type": "code",
   "execution_count": null,
   "metadata": {},
   "outputs": [],
   "source": []
  }
 ],
 "metadata": {
  "kernelspec": {
   "display_name": "[TF]",
   "language": "python",
   "name": "tf"
  },
  "language_info": {
   "codemirror_mode": {
    "name": "ipython",
    "version": 3
   },
   "file_extension": ".py",
   "mimetype": "text/x-python",
   "name": "python",
   "nbconvert_exporter": "python",
   "pygments_lexer": "ipython3",
   "version": "3.7.4"
  }
 },
 "nbformat": 4,
 "nbformat_minor": 4
}
